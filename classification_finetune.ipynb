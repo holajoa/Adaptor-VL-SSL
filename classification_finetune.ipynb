{
 "cells": [
  {
   "cell_type": "code",
   "execution_count": 13,
   "metadata": {},
   "outputs": [],
   "source": [
    "from mgca.datasets.classification_dataset import MIMICImageDataset\n",
    "\n",
    "import torch\n",
    "import torch.nn as nn\n",
    "\n",
    "import numpy as np"
   ]
  },
  {
   "cell_type": "code",
   "execution_count": 2,
   "metadata": {},
   "outputs": [],
   "source": [
    "image_dataset = MIMICImageDataset(split=\"train\", transform=None, data_pct=1.0, img_type=\"Frontal\", imsize=256)"
   ]
  },
  {
   "cell_type": "code",
   "execution_count": 14,
   "metadata": {},
   "outputs": [
    {
     "name": "stdout",
     "output_type": "stream",
     "text": [
      "['train']\n",
      "[0. 1.]\n",
      "[0. 1.]\n",
      "[0. 1.]\n",
      "[0. 1.]\n",
      "[-1.  0.  1.]\n",
      "[-1.  0.  1.]\n",
      "[-1.  0.  1.]\n",
      "[-1.  0.  1.]\n",
      "[0. 1.]\n",
      "[0. 1.]\n",
      "[-1.  0.  1.]\n",
      "[-1.  0.  1.]\n",
      "[-1.  0.  1.]\n",
      "[-1.  0.  1.]\n"
     ]
    }
   ],
   "source": [
    "for col in image_dataset.df.columns[2:]:\n",
    "    print(np.unique(image_dataset.df[col]))"
   ]
  },
  {
   "cell_type": "code",
   "execution_count": null,
   "metadata": {},
   "outputs": [],
   "source": [
    "torch.manual_seed(42)\n",
    "\n",
    "num_classes = 3\n",
    "\n",
    "model = nn.Sequential(\n",
    "    nn.Linear(128+10, )\n",
    ")"
   ]
  }
 ],
 "metadata": {
  "kernelspec": {
   "display_name": "idv",
   "language": "python",
   "name": "python3"
  },
  "language_info": {
   "codemirror_mode": {
    "name": "ipython",
    "version": 3
   },
   "file_extension": ".py",
   "mimetype": "text/x-python",
   "name": "python",
   "nbconvert_exporter": "python",
   "pygments_lexer": "ipython3",
   "version": "3.10.6"
  },
  "orig_nbformat": 4
 },
 "nbformat": 4,
 "nbformat_minor": 2
}
