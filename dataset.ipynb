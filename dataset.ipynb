{
 "cells": [
  {
   "cell_type": "code",
   "execution_count": 1,
   "metadata": {},
   "outputs": [],
   "source": [
    "from mgca.datasets.pretrain_dataset import MultimodalPretrainingDataset, multimodal_collate_fn\n",
    "from mgca.datasets.data_module import DataModule\n",
    "from mgca.datasets.classification_dataset import MIMICImageDataset\n",
    "\n",
    "from mgca.datasets.transforms import DataTransforms"
   ]
  },
  {
   "cell_type": "code",
   "execution_count": null,
   "metadata": {},
   "outputs": [],
   "source": [
    "def multimodal_collator(*args, **kwargs):\n",
    "    d = multimodal_collate_fn(*args, **kwargs)\n",
    "    d['input_ids'] = d.pop('caption_ids')\n",
    "    d['pixel_values'] = d.pop('imgs')\n",
    "    return d"
   ]
  },
  {
   "cell_type": "code",
   "execution_count": null,
   "metadata": {},
   "outputs": [],
   "source": [
    "seed = 1117\n",
    "batch_size = 48\n",
    "num_workers = 16\n",
    "data_pct = 0.01\n",
    "crop_size = 224\n",
    "\n",
    "datamodule = DataModule(\n",
    "    dataset=MultimodalPretrainingDataset,\n",
    "    collate_fn=None, \n",
    "    transforms=DataTransforms, \n",
    "    data_pct=data_pct, \n",
    "    batch_size=batch_size, \n",
    "    num_workers=num_workers,\n",
    "    crop_size=224, \n",
    ")\n",
    "\n",
    "train_dataset = MultimodalPretrainingDataset(\n",
    "    split='train', \n",
    "    transform=DataTransforms(True, crop_size), \n",
    "    data_pct=data_pct\n",
    ")\n",
    "\n",
    "val_dataset = MultimodalPretrainingDataset(\n",
    "    split='valid', \n",
    "    transform=DataTransforms(False, crop_size), \n",
    "    data_pct=data_pct\n",
    ")"
   ]
  },
  {
   "cell_type": "code",
   "execution_count": null,
   "metadata": {},
   "outputs": [],
   "source": [
    "import torch \n",
    "import torch.nn as nn\n",
    "from typing import List, Union, Tuple, Dict, Optional\n",
    "\n",
    "import numpy as np\n",
    "\n",
    "from transformers import AutoTokenizer\n",
    "from transformers import BertModel, AutoModel, ViTImageProcessor\n",
    "\n",
    "import torchxrayvision as xrv\n",
    "from adaptor import Adaptor\n",
    "from utils import load_timm_model, freeze_encoder\n",
    "\n",
    "from image_processor import ae_image_processor, timm_image_processor\n",
    "\n",
    "import skimage\n",
    "\n",
    "from transformers import TrainingArguments, Trainer"
   ]
  },
  {
   "cell_type": "code",
   "execution_count": null,
   "metadata": {},
   "outputs": [
    {
     "name": "stderr",
     "output_type": "stream",
     "text": [
      "Some weights of the model checkpoint at ./weights/ClinicalBERT_checkpoint/ClinicalBERT_pretraining_pytorch_checkpoint were not used when initializing BertModel: ['classifier.bias', 'classifier.weight']\n",
      "- This IS expected if you are initializing BertModel from the checkpoint of a model trained on another task or with another architecture (e.g. initializing a BertForSequenceClassification model from a BertForPreTraining model).\n",
      "- This IS NOT expected if you are initializing BertModel from the checkpoint of a model that you expect to be exactly identical (initializing a BertForSequenceClassification model from a BertForSequenceClassification model).\n"
     ]
    }
   ],
   "source": [
    "text_pretrained_available = [\n",
    "    \"bert-base-uncased\", \n",
    "    \"dmis-lab/biobert-v1.1\", \n",
    "    \"microsoft/BiomedNLP-PubMedBERT-base-uncased-abstract-fulltext\", \n",
    "    \"microsoft/BiomedVLP-CXR-BERT-general\", \n",
    "]\n",
    "\n",
    "### Load vision model\n",
    "# vision_model = xrv.autoencoders.ResNetAE(weights=\"101-elastic\")\n",
    "vision_model = load_timm_model('swin_base_patch4_window7_224', pretrained=True, retain_head=False)\n",
    "\n",
    "### Load text model\n",
    "# text_pretrained = \"microsoft/BiomedVLP-CXR-BERT-general\"\n",
    "text_pretrained = \"./weights/ClinicalBERT_checkpoint/ClinicalBERT_pretraining_pytorch_checkpoint\"\n",
    "text_model = BertModel.from_pretrained(text_pretrained)\n",
    "\n",
    "tokenizer = AutoTokenizer.from_pretrained(text_pretrained)\n",
    "image_processor = lambda x: ViTImageProcessor()(x, return_tensors=\"pt\", return_dict=True)\n",
    "\n",
    "### Load sample input\n",
    "img_path = 'sample.jpeg'\n",
    "img = skimage.io.imread(img_path)\n",
    "imgs = np.stack([img, img])\n",
    "vision_inputs = image_processor(imgs)\n",
    "\n",
    "### Define model\n",
    "model = Adaptor(\n",
    "    text_model=text_model,\n",
    "    vision_model=vision_model,\n",
    "    vision_model_type='timm', \n",
    "    vision_output_dim=1024,\n",
    "    projection_dim=768,\n",
    ")\n",
    "\n",
    "### Obtain inputs\n",
    "vision_inputs = image_processor(imgs)\n",
    "text_inputs = tokenizer(\n",
    "    text=[\"Nodule\", \"Lung Lesion\"], \n",
    "    return_tensors=\"pt\", padding=True, \n",
    ")\n",
    "inputs = {**vision_inputs, **text_inputs}\n",
    "\n",
    "### Forward to get output\n",
    "outputs = model(**inputs, return_dict=True, return_loss=True)"
   ]
  },
  {
   "cell_type": "code",
   "execution_count": null,
   "metadata": {},
   "outputs": [
    {
     "data": {
      "text/html": [
       "\n",
       "    <div>\n",
       "      \n",
       "      <progress value='11' max='113664' style='width:300px; height:20px; vertical-align: middle;'></progress>\n",
       "      [    11/113664 00:13 < 49:00:59, 0.64 it/s, Epoch 0.00/1]\n",
       "    </div>\n",
       "    <table border=\"1\" class=\"dataframe\">\n",
       "  <thead>\n",
       " <tr style=\"text-align: left;\">\n",
       "      <th>Step</th>\n",
       "      <th>Training Loss</th>\n",
       "    </tr>\n",
       "  </thead>\n",
       "  <tbody>\n",
       "  </tbody>\n",
       "</table><p>"
      ],
      "text/plain": [
       "<IPython.core.display.HTML object>"
      ]
     },
     "metadata": {},
     "output_type": "display_data"
    },
    {
     "ename": "KeyboardInterrupt",
     "evalue": "",
     "output_type": "error",
     "traceback": [
      "\u001b[0;31m---------------------------------------------------------------------------\u001b[0m",
      "\u001b[0;31mKeyboardInterrupt\u001b[0m                         Traceback (most recent call last)",
      "Cell \u001b[0;32mIn[6], line 20\u001b[0m\n\u001b[1;32m      1\u001b[0m arguments \u001b[39m=\u001b[39m TrainingArguments(\n\u001b[1;32m      2\u001b[0m     output_dir\u001b[39m=\u001b[39m\u001b[39m\"\u001b[39m\u001b[39m./results\u001b[39m\u001b[39m\"\u001b[39m,\n\u001b[1;32m      3\u001b[0m     per_device_train_batch_size\u001b[39m=\u001b[39mbatch_size, \n\u001b[0;32m   (...)\u001b[0m\n\u001b[1;32m      9\u001b[0m     push_to_hub\u001b[39m=\u001b[39m\u001b[39mFalse\u001b[39;00m, \n\u001b[1;32m     10\u001b[0m )\n\u001b[1;32m     12\u001b[0m trainer \u001b[39m=\u001b[39m Trainer(\n\u001b[1;32m     13\u001b[0m     model\u001b[39m=\u001b[39mmodel, \n\u001b[1;32m     14\u001b[0m     args\u001b[39m=\u001b[39marguments,\n\u001b[0;32m   (...)\u001b[0m\n\u001b[1;32m     18\u001b[0m     data_collator\u001b[39m=\u001b[39mmultimodal_collator, \n\u001b[1;32m     19\u001b[0m )\n\u001b[0;32m---> 20\u001b[0m trainer\u001b[39m.\u001b[39;49mtrain()\n",
      "File \u001b[0;32m/vol/bitbucket/jq619/idv/lib/python3.10/site-packages/transformers/trainer.py:1633\u001b[0m, in \u001b[0;36mTrainer.train\u001b[0;34m(self, resume_from_checkpoint, trial, ignore_keys_for_eval, **kwargs)\u001b[0m\n\u001b[1;32m   1628\u001b[0m     \u001b[39mself\u001b[39m\u001b[39m.\u001b[39mmodel_wrapped \u001b[39m=\u001b[39m \u001b[39mself\u001b[39m\u001b[39m.\u001b[39mmodel\n\u001b[1;32m   1630\u001b[0m inner_training_loop \u001b[39m=\u001b[39m find_executable_batch_size(\n\u001b[1;32m   1631\u001b[0m     \u001b[39mself\u001b[39m\u001b[39m.\u001b[39m_inner_training_loop, \u001b[39mself\u001b[39m\u001b[39m.\u001b[39m_train_batch_size, args\u001b[39m.\u001b[39mauto_find_batch_size\n\u001b[1;32m   1632\u001b[0m )\n\u001b[0;32m-> 1633\u001b[0m \u001b[39mreturn\u001b[39;00m inner_training_loop(\n\u001b[1;32m   1634\u001b[0m     args\u001b[39m=\u001b[39;49margs,\n\u001b[1;32m   1635\u001b[0m     resume_from_checkpoint\u001b[39m=\u001b[39;49mresume_from_checkpoint,\n\u001b[1;32m   1636\u001b[0m     trial\u001b[39m=\u001b[39;49mtrial,\n\u001b[1;32m   1637\u001b[0m     ignore_keys_for_eval\u001b[39m=\u001b[39;49mignore_keys_for_eval,\n\u001b[1;32m   1638\u001b[0m )\n",
      "File \u001b[0;32m/vol/bitbucket/jq619/idv/lib/python3.10/site-packages/transformers/trainer.py:1902\u001b[0m, in \u001b[0;36mTrainer._inner_training_loop\u001b[0;34m(self, batch_size, args, resume_from_checkpoint, trial, ignore_keys_for_eval)\u001b[0m\n\u001b[1;32m   1900\u001b[0m         tr_loss_step \u001b[39m=\u001b[39m \u001b[39mself\u001b[39m\u001b[39m.\u001b[39mtraining_step(model, inputs)\n\u001b[1;32m   1901\u001b[0m \u001b[39melse\u001b[39;00m:\n\u001b[0;32m-> 1902\u001b[0m     tr_loss_step \u001b[39m=\u001b[39m \u001b[39mself\u001b[39;49m\u001b[39m.\u001b[39;49mtraining_step(model, inputs)\n\u001b[1;32m   1904\u001b[0m \u001b[39mif\u001b[39;00m (\n\u001b[1;32m   1905\u001b[0m     args\u001b[39m.\u001b[39mlogging_nan_inf_filter\n\u001b[1;32m   1906\u001b[0m     \u001b[39mand\u001b[39;00m \u001b[39mnot\u001b[39;00m is_torch_tpu_available()\n\u001b[1;32m   1907\u001b[0m     \u001b[39mand\u001b[39;00m (torch\u001b[39m.\u001b[39misnan(tr_loss_step) \u001b[39mor\u001b[39;00m torch\u001b[39m.\u001b[39misinf(tr_loss_step))\n\u001b[1;32m   1908\u001b[0m ):\n\u001b[1;32m   1909\u001b[0m     \u001b[39m# if loss is nan or inf simply add the average of previous logged losses\u001b[39;00m\n\u001b[1;32m   1910\u001b[0m     tr_loss \u001b[39m+\u001b[39m\u001b[39m=\u001b[39m tr_loss \u001b[39m/\u001b[39m (\u001b[39m1\u001b[39m \u001b[39m+\u001b[39m \u001b[39mself\u001b[39m\u001b[39m.\u001b[39mstate\u001b[39m.\u001b[39mglobal_step \u001b[39m-\u001b[39m \u001b[39mself\u001b[39m\u001b[39m.\u001b[39m_globalstep_last_logged)\n",
      "File \u001b[0;32m/vol/bitbucket/jq619/idv/lib/python3.10/site-packages/transformers/trainer.py:2663\u001b[0m, in \u001b[0;36mTrainer.training_step\u001b[0;34m(self, model, inputs)\u001b[0m\n\u001b[1;32m   2661\u001b[0m     loss \u001b[39m=\u001b[39m \u001b[39mself\u001b[39m\u001b[39m.\u001b[39mdeepspeed\u001b[39m.\u001b[39mbackward(loss)\n\u001b[1;32m   2662\u001b[0m \u001b[39melse\u001b[39;00m:\n\u001b[0;32m-> 2663\u001b[0m     loss\u001b[39m.\u001b[39;49mbackward()\n\u001b[1;32m   2665\u001b[0m \u001b[39mreturn\u001b[39;00m loss\u001b[39m.\u001b[39mdetach()\n",
      "File \u001b[0;32m/vol/bitbucket/jq619/idv/lib/python3.10/site-packages/torch/_tensor.py:487\u001b[0m, in \u001b[0;36mTensor.backward\u001b[0;34m(self, gradient, retain_graph, create_graph, inputs)\u001b[0m\n\u001b[1;32m    477\u001b[0m \u001b[39mif\u001b[39;00m has_torch_function_unary(\u001b[39mself\u001b[39m):\n\u001b[1;32m    478\u001b[0m     \u001b[39mreturn\u001b[39;00m handle_torch_function(\n\u001b[1;32m    479\u001b[0m         Tensor\u001b[39m.\u001b[39mbackward,\n\u001b[1;32m    480\u001b[0m         (\u001b[39mself\u001b[39m,),\n\u001b[0;32m   (...)\u001b[0m\n\u001b[1;32m    485\u001b[0m         inputs\u001b[39m=\u001b[39minputs,\n\u001b[1;32m    486\u001b[0m     )\n\u001b[0;32m--> 487\u001b[0m torch\u001b[39m.\u001b[39;49mautograd\u001b[39m.\u001b[39;49mbackward(\n\u001b[1;32m    488\u001b[0m     \u001b[39mself\u001b[39;49m, gradient, retain_graph, create_graph, inputs\u001b[39m=\u001b[39;49minputs\n\u001b[1;32m    489\u001b[0m )\n",
      "File \u001b[0;32m/vol/bitbucket/jq619/idv/lib/python3.10/site-packages/torch/autograd/__init__.py:200\u001b[0m, in \u001b[0;36mbackward\u001b[0;34m(tensors, grad_tensors, retain_graph, create_graph, grad_variables, inputs)\u001b[0m\n\u001b[1;32m    195\u001b[0m     retain_graph \u001b[39m=\u001b[39m create_graph\n\u001b[1;32m    197\u001b[0m \u001b[39m# The reason we repeat same the comment below is that\u001b[39;00m\n\u001b[1;32m    198\u001b[0m \u001b[39m# some Python versions print out the first line of a multi-line function\u001b[39;00m\n\u001b[1;32m    199\u001b[0m \u001b[39m# calls in the traceback and some print out the last line\u001b[39;00m\n\u001b[0;32m--> 200\u001b[0m Variable\u001b[39m.\u001b[39;49m_execution_engine\u001b[39m.\u001b[39;49mrun_backward(  \u001b[39m# Calls into the C++ engine to run the backward pass\u001b[39;49;00m\n\u001b[1;32m    201\u001b[0m     tensors, grad_tensors_, retain_graph, create_graph, inputs,\n\u001b[1;32m    202\u001b[0m     allow_unreachable\u001b[39m=\u001b[39;49m\u001b[39mTrue\u001b[39;49;00m, accumulate_grad\u001b[39m=\u001b[39;49m\u001b[39mTrue\u001b[39;49;00m)\n",
      "\u001b[0;31mKeyboardInterrupt\u001b[0m: "
     ]
    }
   ],
   "source": [
    "arguments = TrainingArguments(\n",
    "    output_dir=\"./results\",\n",
    "    per_device_train_batch_size=batch_size, \n",
    "    per_device_eval_batch_size=batch_size,  \n",
    "    num_train_epochs=1, \n",
    "    save_strategy=\"epoch\",\n",
    "    learning_rate=5e-5, \n",
    "    seed=1117, \n",
    "    push_to_hub=False, \n",
    ")\n",
    "\n",
    "trainer = Trainer(\n",
    "    model=model, \n",
    "    args=arguments,\n",
    "    train_dataset=train_dataset, \n",
    "    eval_dataset=val_dataset, \n",
    "    tokenizer=tokenizer, \n",
    "    data_collator=multimodal_collator, \n",
    ")\n",
    "trainer.train()"
   ]
  },
  {
   "cell_type": "code",
   "execution_count": null,
   "metadata": {},
   "outputs": [],
   "source": []
  }
 ],
 "metadata": {
  "kernelspec": {
   "display_name": "idv",
   "language": "python",
   "name": "python3"
  },
  "language_info": {
   "codemirror_mode": {
    "name": "ipython",
    "version": 3
   },
   "file_extension": ".py",
   "mimetype": "text/x-python",
   "name": "python",
   "nbconvert_exporter": "python",
   "pygments_lexer": "ipython3",
   "version": "3.10.6"
  },
  "orig_nbformat": 4
 },
 "nbformat": 4,
 "nbformat_minor": 2
}
