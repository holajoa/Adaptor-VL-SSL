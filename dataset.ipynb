{
 "cells": [
  {
   "cell_type": "code",
   "execution_count": 1,
   "metadata": {},
   "outputs": [],
   "source": [
    "from mgca.datasets.pretrain_dataset import MultimodalPretrainingDataset\n",
    "from mgca.datasets.data_module import DataModule\n",
    "from mgca.datasets.classification_dataset import MIMICImageDataset\n",
    "\n",
    "from mgca.datasets.transforms import DataTransforms"
   ]
  },
  {
   "cell_type": "code",
   "execution_count": 12,
   "metadata": {},
   "outputs": [],
   "source": [
    "seed = 1117\n",
    "batch_size = 48\n",
    "num_workers = 16\n",
    "data_pct = 0.01\n",
    "\n",
    "datamodule = DataModule(\n",
    "    dataset=MultimodalPretrainingDataset,\n",
    "    collate_fn=None, \n",
    "    transforms=DataTransforms, \n",
    "    data_pct=data_pct, \n",
    "    batch_size=batch_size, \n",
    "    num_workers=num_workers,\n",
    "    crop_size=224, \n",
    ")\n"
   ]
  },
  {
   "cell_type": "code",
   "execution_count": 21,
   "metadata": {},
   "outputs": [
    {
     "data": {
      "text/plain": [
       "103"
      ]
     },
     "execution_count": 21,
     "metadata": {},
     "output_type": "execute_result"
    }
   ],
   "source": []
  }
 ],
 "metadata": {
  "kernelspec": {
   "display_name": "idv",
   "language": "python",
   "name": "python3"
  },
  "language_info": {
   "codemirror_mode": {
    "name": "ipython",
    "version": 3
   },
   "file_extension": ".py",
   "mimetype": "text/x-python",
   "name": "python",
   "nbconvert_exporter": "python",
   "pygments_lexer": "ipython3",
   "version": "3.10.6"
  },
  "orig_nbformat": 4
 },
 "nbformat": 4,
 "nbformat_minor": 2
}
