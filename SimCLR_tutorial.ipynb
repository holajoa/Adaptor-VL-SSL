{
 "cells": [
  {
   "cell_type": "markdown",
   "metadata": {},
   "source": [
    "<img src=\"img/mmselfsup_logo.png\">"
   ]
  },
  {
   "cell_type": "markdown",
   "metadata": {},
   "source": [
    "# 模型自监督预训练 之 SimCLR\n",
    "\n",
    "<a href=\"https://colab.research.google.com/github/open-mmlab/OpenMMLabCourse/blob/main/codes/MMSelfSup_tutorials/【1】模型自监督预训练%20之%20SimCLR.ipynb\" target=\"_parent\"><img src=\"https://colab.research.google.com/assets/colab-badge.svg\" alt=\"Open In Colab\"/></a>"
   ]
  },
  {
   "cell_type": "markdown",
   "metadata": {},
   "source": [
    "**MMSelfSup Repo**：[https://github.com/open-mmlab/mmselfsup](https://github.com/open-mmlab/mmselfsup)\n",
    "\n",
    "**MMSelfSup 官方文档链接**：[https://mmselfsup.readthedocs.io/en/latest](https://mmselfsup.readthedocs.io/en/latest)\n",
    "\n",
    "**MMSelfSup 视频教学**：[https://space.bilibili.com/1293512903/channel/collectiondetail?sid=657287](https://space.bilibili.com/1293512903/channel/collectiondetail?sid=657287)\n",
    "\n",
    "**MMSelfSup 代码库介绍 PPT 获取方式**：关注 OpenMMLab 公众号，后台回复：mmselfsup，即可获取课程 PPT\n",
    "\n",
    "**加入微信社群方式**：关注公众号，选择 “加入我们” -> “微信社区”，即可获取入群二维码。非常期待你的到来呀~\n",
    "\n",
    "**作者**：OpenMMLab"
   ]
  },
  {
   "cell_type": "markdown",
   "metadata": {},
   "source": [
    "## 0. 自监督预训练方法介绍：SimCLR"
   ]
  },
  {
   "cell_type": "markdown",
   "metadata": {},
   "source": [
    "**论文地址**：https://arxiv.org/pdf/2002.05709.pdf\n",
    "\n",
    "**SimCLR 基本思想**：对一张图片做两次不同的数据增强操作，增强后的两张图片互为彼此的正样本，同一个 batch 里其他图片的增强结果为这两张增强图片的负样本。SimCLR 要求编码器最大化当前图像与其正样本表示的相似度，最小化当前图像与其负样本表示的相似度。"
   ]
  },
  {
   "cell_type": "markdown",
   "metadata": {},
   "source": [
    "<img src=\"img/SimCLR.png\">"
   ]
  },
  {
   "cell_type": "markdown",
   "metadata": {},
   "source": [
    "## 1. 环境配置"
   ]
  },
  {
   "cell_type": "markdown",
   "metadata": {},
   "source": [
    "### 1.1 查看 Python、PyTorch 和 Torchvision 的版本"
   ]
  },
  {
   "cell_type": "code",
   "execution_count": 1,
   "metadata": {},
   "outputs": [
    {
     "name": "stdout",
     "output_type": "stream",
     "text": [
      "nvcc: NVIDIA (R) Cuda compiler driver\n",
      "Copyright (c) 2005-2022 NVIDIA Corporation\n",
      "Built on Wed_Jun__8_16:59:34_Pacific_Daylight_Time_2022\n",
      "Cuda compilation tools, release 11.7, V11.7.99\n",
      "Build cuda_11.7.r11.7/compiler.31442593_0\n"
     ]
    }
   ],
   "source": [
    "# Check nvcc version\n",
    "!nvcc -V"
   ]
  },
  {
   "cell_type": "code",
   "execution_count": 2,
   "metadata": {},
   "outputs": [
    {
     "name": "stdout",
     "output_type": "stream",
     "text": [
      "gcc (4.3.3-tdm-1 mingw32) 4.3.3\n",
      "Copyright (C) 2008 Free Software Foundation, Inc.\n",
      "This is free software; see the source for copying conditions.  There is NO\n",
      "warranty; not even for MERCHANTABILITY or FITNESS FOR A PARTICULAR PURPOSE.\n",
      "\n"
     ]
    }
   ],
   "source": [
    "# Check GCC version\n",
    "!gcc --version"
   ]
  },
  {
   "cell_type": "code",
   "execution_count": 3,
   "metadata": {},
   "outputs": [
    {
     "name": "stdout",
     "output_type": "stream",
     "text": [
      "2.0.0\n",
      "True\n"
     ]
    }
   ],
   "source": [
    "# Check PyTorch installation\n",
    "import torch, torchvision\n",
    "print(torch.__version__)\n",
    "print(torch.cuda.is_available())"
   ]
  },
  {
   "cell_type": "markdown",
   "metadata": {},
   "source": [
    "### 1.2 安装 MMSelfSup 的依赖库：MMCV"
   ]
  },
  {
   "cell_type": "code",
   "execution_count": 4,
   "metadata": {},
   "outputs": [
    {
     "name": "stdout",
     "output_type": "stream",
     "text": [
      "Requirement already satisfied: openmim in d:\\apps\\anaconda3\\envs\\idv\\lib\\site-packages (0.3.7)\n",
      "Requirement already satisfied: model-index in d:\\apps\\anaconda3\\envs\\idv\\lib\\site-packages (from openmim) (0.1.11)\n",
      "Requirement already satisfied: tabulate in d:\\apps\\anaconda3\\envs\\idv\\lib\\site-packages (from openmim) (0.9.0)\n",
      "Requirement already satisfied: rich in d:\\apps\\anaconda3\\envs\\idv\\lib\\site-packages (from openmim) (13.3.4)\n",
      "Requirement already satisfied: pip>=19.3 in d:\\apps\\anaconda3\\envs\\idv\\lib\\site-packages (from openmim) (23.0.1)\n",
      "Requirement already satisfied: colorama in d:\\apps\\anaconda3\\envs\\idv\\lib\\site-packages (from openmim) (0.4.6)\n",
      "Requirement already satisfied: requests in c:\\users\\holaj\\appdata\\roaming\\python\\python310\\site-packages (from openmim) (2.27.1)\n",
      "Requirement already satisfied: Click in d:\\apps\\anaconda3\\envs\\idv\\lib\\site-packages (from openmim) (8.1.3)\n",
      "Requirement already satisfied: pandas in d:\\apps\\anaconda3\\envs\\idv\\lib\\site-packages (from openmim) (2.0.0)\n",
      "Requirement already satisfied: markdown in d:\\apps\\anaconda3\\envs\\idv\\lib\\site-packages (from model-index->openmim) (3.4.3)\n",
      "Requirement already satisfied: ordered-set in d:\\apps\\anaconda3\\envs\\idv\\lib\\site-packages (from model-index->openmim) (4.1.0)\n",
      "Requirement already satisfied: pyyaml in d:\\apps\\anaconda3\\envs\\idv\\lib\\site-packages (from model-index->openmim) (6.0)\n",
      "Requirement already satisfied: python-dateutil>=2.8.2 in c:\\users\\holaj\\appdata\\roaming\\python\\python310\\site-packages (from pandas->openmim) (2.8.2)\n",
      "Requirement already satisfied: tzdata>=2022.1 in d:\\apps\\anaconda3\\envs\\idv\\lib\\site-packages (from pandas->openmim) (2023.3)\n",
      "Requirement already satisfied: numpy>=1.21.0 in d:\\apps\\anaconda3\\envs\\idv\\lib\\site-packages (from pandas->openmim) (1.24.2)\n",
      "Requirement already satisfied: pytz>=2020.1 in d:\\apps\\anaconda3\\envs\\idv\\lib\\site-packages (from pandas->openmim) (2023.3)\n",
      "Requirement already satisfied: charset-normalizer~=2.0.0 in c:\\users\\holaj\\appdata\\roaming\\python\\python310\\site-packages (from requests->openmim) (2.0.12)\n",
      "Requirement already satisfied: idna<4,>=2.5 in d:\\apps\\anaconda3\\envs\\idv\\lib\\site-packages (from requests->openmim) (3.4)\n",
      "Requirement already satisfied: certifi>=2017.4.17 in c:\\users\\holaj\\appdata\\roaming\\python\\python310\\site-packages (from requests->openmim) (2022.5.18.1)\n",
      "Requirement already satisfied: urllib3<1.27,>=1.21.1 in d:\\apps\\anaconda3\\envs\\idv\\lib\\site-packages (from requests->openmim) (1.26.15)\n",
      "Requirement already satisfied: pygments<3.0.0,>=2.13.0 in d:\\apps\\anaconda3\\envs\\idv\\lib\\site-packages (from rich->openmim) (2.15.0)\n",
      "Requirement already satisfied: markdown-it-py<3.0.0,>=2.2.0 in d:\\apps\\anaconda3\\envs\\idv\\lib\\site-packages (from rich->openmim) (2.2.0)\n",
      "Requirement already satisfied: mdurl~=0.1 in d:\\apps\\anaconda3\\envs\\idv\\lib\\site-packages (from markdown-it-py<3.0.0,>=2.2.0->rich->openmim) (0.1.2)\n",
      "Requirement already satisfied: six>=1.5 in d:\\apps\\anaconda3\\envs\\idv\\lib\\site-packages (from python-dateutil>=2.8.2->pandas->openmim) (1.16.0)\n"
     ]
    }
   ],
   "source": [
    "!pip install openmim"
   ]
  },
  {
   "cell_type": "code",
   "execution_count": 5,
   "metadata": {},
   "outputs": [
    {
     "name": "stdout",
     "output_type": "stream",
     "text": [
      "Looking in links: https://download.openmmlab.com/mmcv/dist/cu117/torch2.0.0/index.html\n",
      "Requirement already satisfied: mmcv in d:\\apps\\anaconda3\\envs\\idv\\lib\\site-packages (2.0.0)\n",
      "Requirement already satisfied: Pillow in d:\\apps\\anaconda3\\envs\\idv\\lib\\site-packages (from mmcv) (9.4.0)\n",
      "Requirement already satisfied: packaging in d:\\apps\\anaconda3\\envs\\idv\\lib\\site-packages (from mmcv) (23.0)\n",
      "Requirement already satisfied: numpy in d:\\apps\\anaconda3\\envs\\idv\\lib\\site-packages (from mmcv) (1.24.2)\n",
      "Requirement already satisfied: pyyaml in d:\\apps\\anaconda3\\envs\\idv\\lib\\site-packages (from mmcv) (6.0)\n",
      "Requirement already satisfied: opencv-python>=3 in d:\\apps\\anaconda3\\envs\\idv\\lib\\site-packages (from mmcv) (4.7.0.72)\n",
      "Requirement already satisfied: addict in d:\\apps\\anaconda3\\envs\\idv\\lib\\site-packages (from mmcv) (2.4.0)\n",
      "Requirement already satisfied: mmengine>=0.2.0 in d:\\apps\\anaconda3\\envs\\idv\\lib\\site-packages (from mmcv) (0.7.2)\n",
      "Requirement already satisfied: regex in d:\\apps\\anaconda3\\envs\\idv\\lib\\site-packages (from mmcv) (2023.3.23)\n",
      "Requirement already satisfied: yapf in d:\\apps\\anaconda3\\envs\\idv\\lib\\site-packages (from mmcv) (0.32.0)\n",
      "Requirement already satisfied: termcolor in d:\\apps\\anaconda3\\envs\\idv\\lib\\site-packages (from mmengine>=0.2.0->mmcv) (2.2.0)\n",
      "Requirement already satisfied: rich in d:\\apps\\anaconda3\\envs\\idv\\lib\\site-packages (from mmengine>=0.2.0->mmcv) (13.3.4)\n",
      "Requirement already satisfied: matplotlib in d:\\apps\\anaconda3\\envs\\idv\\lib\\site-packages (from mmengine>=0.2.0->mmcv) (3.7.1)\n",
      "Requirement already satisfied: python-dateutil>=2.7 in c:\\users\\holaj\\appdata\\roaming\\python\\python310\\site-packages (from matplotlib->mmengine>=0.2.0->mmcv) (2.8.2)\n",
      "Requirement already satisfied: kiwisolver>=1.0.1 in d:\\apps\\anaconda3\\envs\\idv\\lib\\site-packages (from matplotlib->mmengine>=0.2.0->mmcv) (1.4.4)\n",
      "Requirement already satisfied: pyparsing>=2.3.1 in d:\\apps\\anaconda3\\envs\\idv\\lib\\site-packages (from matplotlib->mmengine>=0.2.0->mmcv) (3.0.9)\n",
      "Requirement already satisfied: fonttools>=4.22.0 in d:\\apps\\anaconda3\\envs\\idv\\lib\\site-packages (from matplotlib->mmengine>=0.2.0->mmcv) (4.39.3)\n",
      "Requirement already satisfied: cycler>=0.10 in d:\\apps\\anaconda3\\envs\\idv\\lib\\site-packages (from matplotlib->mmengine>=0.2.0->mmcv) (0.11.0)\n",
      "Requirement already satisfied: contourpy>=1.0.1 in d:\\apps\\anaconda3\\envs\\idv\\lib\\site-packages (from matplotlib->mmengine>=0.2.0->mmcv) (1.0.7)\n",
      "Requirement already satisfied: markdown-it-py<3.0.0,>=2.2.0 in d:\\apps\\anaconda3\\envs\\idv\\lib\\site-packages (from rich->mmengine>=0.2.0->mmcv) (2.2.0)\n",
      "Requirement already satisfied: pygments<3.0.0,>=2.13.0 in d:\\apps\\anaconda3\\envs\\idv\\lib\\site-packages (from rich->mmengine>=0.2.0->mmcv) (2.15.0)\n",
      "Requirement already satisfied: mdurl~=0.1 in d:\\apps\\anaconda3\\envs\\idv\\lib\\site-packages (from markdown-it-py<3.0.0,>=2.2.0->rich->mmengine>=0.2.0->mmcv) (0.1.2)\n",
      "Requirement already satisfied: six>=1.5 in d:\\apps\\anaconda3\\envs\\idv\\lib\\site-packages (from python-dateutil>=2.7->matplotlib->mmengine>=0.2.0->mmcv) (1.16.0)\n"
     ]
    }
   ],
   "source": [
    "!mim install mmcv"
   ]
  },
  {
   "cell_type": "markdown",
   "metadata": {},
   "source": [
    "### 1.3  安装 MMSelfSup"
   ]
  },
  {
   "cell_type": "code",
   "execution_count": 7,
   "metadata": {},
   "outputs": [
    {
     "name": "stdout",
     "output_type": "stream",
     "text": [
      "[WinError 2] The system cannot find the file specified: '/content'\n",
      "d:\\Develop\\msc-ai-dev\\individual-project\n"
     ]
    }
   ],
   "source": [
    "%cd /content"
   ]
  },
  {
   "cell_type": "code",
   "execution_count": 10,
   "metadata": {},
   "outputs": [
    {
     "name": "stdout",
     "output_type": "stream",
     "text": [
      "[WinError 2] The system cannot find the file specified: '/mmselfsup'\n",
      "d:\\Develop\\msc-ai-dev\\individual-project\n"
     ]
    },
    {
     "name": "stderr",
     "output_type": "stream",
     "text": [
      "Cloning into 'mmselfsup'...\n"
     ]
    }
   ],
   "source": [
    "!git clone https://github.com/open-mmlab/mmselfsup.git"
   ]
  },
  {
   "cell_type": "code",
   "execution_count": 13,
   "metadata": {},
   "outputs": [
    {
     "name": "stdout",
     "output_type": "stream",
     "text": [
      "Obtaining file:///D:/Develop/msc-ai-dev/individual-project/mmselfsup\n",
      "  Preparing metadata (setup.py): started\n",
      "  Preparing metadata (setup.py): finished with status 'done'\n",
      "Collecting attrs\n",
      "  Downloading attrs-23.1.0-py3-none-any.whl (61 kB)\n",
      "     ---------------------------------------- 0.0/61.2 kB ? eta -:--:--\n",
      "     ------------ ------------------------- 20.5/61.2 kB 330.3 kB/s eta 0:00:01\n",
      "     ------------------------------- ------ 51.2/61.2 kB 525.1 kB/s eta 0:00:01\n",
      "     -------------------------------------- 61.2/61.2 kB 547.5 kB/s eta 0:00:00\n",
      "Collecting einops\n",
      "  Using cached einops-0.6.0-py3-none-any.whl (41 kB)\n",
      "Collecting future\n",
      "  Using cached future-0.18.3.tar.gz (840 kB)\n",
      "  Preparing metadata (setup.py): started\n",
      "  Preparing metadata (setup.py): finished with status 'done'\n",
      "Requirement already satisfied: matplotlib in d:\\apps\\anaconda3\\envs\\idv\\lib\\site-packages (from mmselfsup==1.0.0) (3.7.1)\n",
      "Collecting mmcls<1.1.0,>=1.0.0rc6\n",
      "  Downloading mmcls-1.0.0rc6-py2.py3-none-any.whl (906 kB)\n",
      "     ---------------------------------------- 0.0/906.1 kB ? eta -:--:--\n",
      "     ------------- ------------------------ 317.4/906.1 kB 6.7 MB/s eta 0:00:01\n",
      "     ---------------------------- --------- 686.1/906.1 kB 7.3 MB/s eta 0:00:01\n",
      "     -------------------------------------- 906.1/906.1 kB 7.2 MB/s eta 0:00:00\n",
      "Requirement already satisfied: numpy in d:\\apps\\anaconda3\\envs\\idv\\lib\\site-packages (from mmselfsup==1.0.0) (1.24.2)\n",
      "Requirement already satisfied: packaging in d:\\apps\\anaconda3\\envs\\idv\\lib\\site-packages (from mmselfsup==1.0.0) (23.0)\n",
      "Requirement already satisfied: scikit-learn in c:\\users\\holaj\\appdata\\roaming\\python\\python310\\site-packages (from mmselfsup==1.0.0) (1.1.1)\n",
      "Collecting scipy\n",
      "  Downloading scipy-1.10.1-cp310-cp310-win_amd64.whl (42.5 MB)\n",
      "     ---------------------------------------- 0.0/42.5 MB ? eta -:--:--\n",
      "     ---------------------------------------- 0.4/42.5 MB 11.2 MB/s eta 0:00:04\n",
      "      --------------------------------------- 0.7/42.5 MB 8.8 MB/s eta 0:00:05\n",
      "     - -------------------------------------- 1.2/42.5 MB 9.7 MB/s eta 0:00:05\n",
      "     - -------------------------------------- 1.6/42.5 MB 9.5 MB/s eta 0:00:05\n",
      "     - -------------------------------------- 2.1/42.5 MB 9.4 MB/s eta 0:00:05\n",
      "     -- ------------------------------------- 2.5/42.5 MB 9.3 MB/s eta 0:00:05\n",
      "     -- ------------------------------------- 2.8/42.5 MB 8.9 MB/s eta 0:00:05\n",
      "     -- ------------------------------------- 3.0/42.5 MB 8.8 MB/s eta 0:00:05\n",
      "     --- ------------------------------------ 3.4/42.5 MB 8.3 MB/s eta 0:00:05\n",
      "     --- ------------------------------------ 3.9/42.5 MB 8.5 MB/s eta 0:00:05\n",
      "     --- ------------------------------------ 4.2/42.5 MB 8.4 MB/s eta 0:00:05\n",
      "     ---- ----------------------------------- 4.5/42.5 MB 8.3 MB/s eta 0:00:05\n",
      "     ---- ----------------------------------- 4.9/42.5 MB 8.3 MB/s eta 0:00:05\n",
      "     ----- ---------------------------------- 5.3/42.5 MB 8.3 MB/s eta 0:00:05\n",
      "     ----- ---------------------------------- 5.7/42.5 MB 8.2 MB/s eta 0:00:05\n",
      "     ----- ---------------------------------- 6.1/42.5 MB 8.3 MB/s eta 0:00:05\n",
      "     ------ --------------------------------- 6.5/42.5 MB 8.3 MB/s eta 0:00:05\n",
      "     ------ --------------------------------- 6.7/42.5 MB 8.2 MB/s eta 0:00:05\n",
      "     ------ --------------------------------- 7.0/42.5 MB 7.9 MB/s eta 0:00:05\n",
      "     ------ --------------------------------- 7.4/42.5 MB 8.1 MB/s eta 0:00:05\n",
      "     ------- -------------------------------- 7.8/42.5 MB 8.1 MB/s eta 0:00:05\n",
      "     ------- -------------------------------- 8.2/42.5 MB 8.1 MB/s eta 0:00:05\n",
      "     -------- ------------------------------- 8.6/42.5 MB 8.1 MB/s eta 0:00:05\n",
      "     -------- ------------------------------- 9.0/42.5 MB 8.3 MB/s eta 0:00:05\n",
      "     -------- ------------------------------- 9.2/42.5 MB 7.9 MB/s eta 0:00:05\n",
      "     --------- ------------------------------ 9.6/42.5 MB 8.0 MB/s eta 0:00:05\n",
      "     --------- ------------------------------ 10.0/42.5 MB 8.1 MB/s eta 0:00:05\n",
      "     --------- ------------------------------ 10.4/42.5 MB 8.0 MB/s eta 0:00:05\n",
      "     ---------- ----------------------------- 10.8/42.5 MB 8.1 MB/s eta 0:00:04\n",
      "     ---------- ----------------------------- 11.2/42.5 MB 8.1 MB/s eta 0:00:04\n",
      "     ---------- ----------------------------- 11.6/42.5 MB 8.1 MB/s eta 0:00:04\n",
      "     ----------- ---------------------------- 12.1/42.5 MB 8.0 MB/s eta 0:00:04\n",
      "     ----------- ---------------------------- 12.3/42.5 MB 8.0 MB/s eta 0:00:04\n",
      "     ------------ --------------------------- 12.8/42.5 MB 8.0 MB/s eta 0:00:04\n",
      "     ------------ --------------------------- 13.2/42.5 MB 8.1 MB/s eta 0:00:04\n",
      "     ------------ --------------------------- 13.7/42.5 MB 8.2 MB/s eta 0:00:04\n",
      "     ------------- -------------------------- 14.1/42.5 MB 8.2 MB/s eta 0:00:04\n",
      "     ------------- -------------------------- 14.4/42.5 MB 8.2 MB/s eta 0:00:04\n",
      "     ------------- -------------------------- 14.9/42.5 MB 8.3 MB/s eta 0:00:04\n",
      "     -------------- ------------------------- 15.1/42.5 MB 8.2 MB/s eta 0:00:04\n",
      "     -------------- ------------------------- 15.5/42.5 MB 8.2 MB/s eta 0:00:04\n",
      "     -------------- ------------------------- 15.9/42.5 MB 8.2 MB/s eta 0:00:04\n",
      "     --------------- ------------------------ 16.4/42.5 MB 8.2 MB/s eta 0:00:04\n",
      "     --------------- ------------------------ 16.7/42.5 MB 8.3 MB/s eta 0:00:04\n",
      "     ---------------- ----------------------- 17.1/42.5 MB 8.3 MB/s eta 0:00:04\n",
      "     ---------------- ----------------------- 17.5/42.5 MB 8.4 MB/s eta 0:00:03\n",
      "     ---------------- ----------------------- 17.8/42.5 MB 8.4 MB/s eta 0:00:03\n",
      "     ----------------- ---------------------- 18.2/42.5 MB 8.4 MB/s eta 0:00:03\n",
      "     ----------------- ---------------------- 18.6/42.5 MB 8.4 MB/s eta 0:00:03\n",
      "     ----------------- ---------------------- 19.1/42.5 MB 8.3 MB/s eta 0:00:03\n",
      "     ------------------ --------------------- 19.5/42.5 MB 8.5 MB/s eta 0:00:03\n",
      "     ------------------ --------------------- 19.9/42.5 MB 8.6 MB/s eta 0:00:03\n",
      "     ------------------- -------------------- 20.3/42.5 MB 8.5 MB/s eta 0:00:03\n",
      "     ------------------- -------------------- 20.7/42.5 MB 8.6 MB/s eta 0:00:03\n",
      "     ------------------- -------------------- 21.2/42.5 MB 8.5 MB/s eta 0:00:03\n",
      "     -------------------- ------------------- 21.6/42.5 MB 8.6 MB/s eta 0:00:03\n",
      "     -------------------- ------------------- 22.0/42.5 MB 8.7 MB/s eta 0:00:03\n",
      "     --------------------- ------------------ 22.4/42.5 MB 8.6 MB/s eta 0:00:03\n",
      "     --------------------- ------------------ 22.8/42.5 MB 8.7 MB/s eta 0:00:03\n",
      "     --------------------- ------------------ 23.2/42.5 MB 8.7 MB/s eta 0:00:03\n",
      "     ---------------------- ----------------- 23.6/42.5 MB 8.7 MB/s eta 0:00:03\n",
      "     ---------------------- ----------------- 24.0/42.5 MB 8.6 MB/s eta 0:00:03\n",
      "     ----------------------- ---------------- 24.5/42.5 MB 8.7 MB/s eta 0:00:03\n",
      "     ----------------------- ---------------- 24.9/42.5 MB 8.7 MB/s eta 0:00:03\n",
      "     ----------------------- ---------------- 25.3/42.5 MB 9.0 MB/s eta 0:00:02\n",
      "     ------------------------ --------------- 25.7/42.5 MB 9.0 MB/s eta 0:00:02\n",
      "     ------------------------ --------------- 26.1/42.5 MB 8.7 MB/s eta 0:00:02\n",
      "     ------------------------ --------------- 26.4/42.5 MB 8.8 MB/s eta 0:00:02\n",
      "     ------------------------- -------------- 26.8/42.5 MB 8.7 MB/s eta 0:00:02\n",
      "     ------------------------- -------------- 27.2/42.5 MB 8.7 MB/s eta 0:00:02\n",
      "     ------------------------- -------------- 27.6/42.5 MB 8.8 MB/s eta 0:00:02\n",
      "     -------------------------- ------------- 28.0/42.5 MB 8.7 MB/s eta 0:00:02\n",
      "     -------------------------- ------------- 28.4/42.5 MB 8.7 MB/s eta 0:00:02\n",
      "     --------------------------- ------------ 28.8/42.5 MB 8.7 MB/s eta 0:00:02\n",
      "     --------------------------- ------------ 29.2/42.5 MB 8.8 MB/s eta 0:00:02\n",
      "     --------------------------- ------------ 29.7/42.5 MB 8.8 MB/s eta 0:00:02\n",
      "     ---------------------------- ----------- 30.1/42.5 MB 8.8 MB/s eta 0:00:02\n",
      "     ---------------------------- ----------- 30.5/42.5 MB 8.8 MB/s eta 0:00:02\n",
      "     ----------------------------- ---------- 30.9/42.5 MB 9.0 MB/s eta 0:00:02\n",
      "     ----------------------------- ---------- 31.3/42.5 MB 8.8 MB/s eta 0:00:02\n",
      "     ----------------------------- ---------- 31.7/42.5 MB 8.8 MB/s eta 0:00:02\n",
      "     ------------------------------ --------- 32.1/42.5 MB 8.8 MB/s eta 0:00:02\n",
      "     ------------------------------ --------- 32.5/42.5 MB 8.7 MB/s eta 0:00:02\n",
      "     ------------------------------ --------- 32.8/42.5 MB 8.7 MB/s eta 0:00:02\n",
      "     ------------------------------- -------- 33.3/42.5 MB 8.7 MB/s eta 0:00:02\n",
      "     ------------------------------- -------- 33.6/42.5 MB 8.6 MB/s eta 0:00:02\n",
      "     ------------------------------- -------- 33.9/42.5 MB 8.5 MB/s eta 0:00:02\n",
      "     -------------------------------- ------- 34.2/42.5 MB 8.4 MB/s eta 0:00:01\n",
      "     -------------------------------- ------- 34.6/42.5 MB 8.4 MB/s eta 0:00:01\n",
      "     -------------------------------- ------- 35.0/42.5 MB 8.4 MB/s eta 0:00:01\n",
      "     --------------------------------- ------ 35.4/42.5 MB 8.4 MB/s eta 0:00:01\n",
      "     --------------------------------- ------ 35.8/42.5 MB 8.4 MB/s eta 0:00:01\n",
      "     ---------------------------------- ----- 36.3/42.5 MB 8.5 MB/s eta 0:00:01\n",
      "     ---------------------------------- ----- 36.7/42.5 MB 8.5 MB/s eta 0:00:01\n",
      "     ---------------------------------- ----- 37.1/42.5 MB 8.5 MB/s eta 0:00:01\n",
      "     ----------------------------------- ---- 37.4/42.5 MB 8.4 MB/s eta 0:00:01\n",
      "     ----------------------------------- ---- 37.8/42.5 MB 8.4 MB/s eta 0:00:01\n",
      "     ----------------------------------- ---- 38.2/42.5 MB 8.5 MB/s eta 0:00:01\n",
      "     ------------------------------------ --- 38.5/42.5 MB 8.4 MB/s eta 0:00:01\n",
      "     ------------------------------------ --- 38.8/42.5 MB 8.3 MB/s eta 0:00:01\n",
      "     ------------------------------------ --- 39.1/42.5 MB 8.2 MB/s eta 0:00:01\n",
      "     ------------------------------------- -- 39.6/42.5 MB 8.2 MB/s eta 0:00:01\n",
      "     ------------------------------------- -- 39.9/42.5 MB 8.3 MB/s eta 0:00:01\n",
      "     ------------------------------------- -- 40.3/42.5 MB 8.1 MB/s eta 0:00:01\n",
      "     -------------------------------------- - 40.7/42.5 MB 8.1 MB/s eta 0:00:01\n",
      "     -------------------------------------- - 41.0/42.5 MB 8.1 MB/s eta 0:00:01\n",
      "     ---------------------------------------  41.5/42.5 MB 8.2 MB/s eta 0:00:01\n",
      "     ---------------------------------------  41.9/42.5 MB 8.1 MB/s eta 0:00:01\n",
      "     ---------------------------------------  42.1/42.5 MB 8.0 MB/s eta 0:00:01\n",
      "     ---------------------------------------  42.5/42.5 MB 8.1 MB/s eta 0:00:01\n",
      "     ---------------------------------------  42.5/42.5 MB 8.1 MB/s eta 0:00:01\n",
      "     ---------------------------------------  42.5/42.5 MB 8.1 MB/s eta 0:00:01\n",
      "     ---------------------------------------- 42.5/42.5 MB 7.1 MB/s eta 0:00:00\n",
      "Requirement already satisfied: six in d:\\apps\\anaconda3\\envs\\idv\\lib\\site-packages (from mmselfsup==1.0.0) (1.16.0)\n",
      "Collecting tensorboard\n",
      "  Downloading tensorboard-2.12.2-py3-none-any.whl (5.6 MB)\n",
      "     ---------------------------------------- 0.0/5.6 MB ? eta -:--:--\n",
      "     --- ------------------------------------ 0.4/5.6 MB 13.9 MB/s eta 0:00:01\n",
      "     ------ --------------------------------- 0.9/5.6 MB 10.9 MB/s eta 0:00:01\n",
      "     -------- ------------------------------- 1.3/5.6 MB 10.0 MB/s eta 0:00:01\n",
      "     ----------- ---------------------------- 1.7/5.6 MB 9.7 MB/s eta 0:00:01\n",
      "     --------------- ------------------------ 2.1/5.6 MB 9.7 MB/s eta 0:00:01\n",
      "     ----------------- ---------------------- 2.5/5.6 MB 9.4 MB/s eta 0:00:01\n",
      "     -------------------- ------------------- 2.9/5.6 MB 9.4 MB/s eta 0:00:01\n",
      "     ----------------------- ---------------- 3.4/5.6 MB 9.4 MB/s eta 0:00:01\n",
      "     -------------------------- ------------- 3.8/5.6 MB 9.3 MB/s eta 0:00:01\n",
      "     ----------------------------- ---------- 4.1/5.6 MB 9.1 MB/s eta 0:00:01\n",
      "     -------------------------------- ------- 4.6/5.6 MB 9.1 MB/s eta 0:00:01\n",
      "     ----------------------------------- ---- 5.0/5.6 MB 9.1 MB/s eta 0:00:01\n",
      "     ------------------------------------- -- 5.2/5.6 MB 8.8 MB/s eta 0:00:01\n",
      "     ---------------------------------------  5.6/5.6 MB 8.8 MB/s eta 0:00:01\n",
      "     ---------------------------------------- 5.6/5.6 MB 8.6 MB/s eta 0:00:00\n",
      "Requirement already satisfied: tqdm in d:\\apps\\anaconda3\\envs\\idv\\lib\\site-packages (from mmselfsup==1.0.0) (4.65.0)\n",
      "Requirement already satisfied: rich in d:\\apps\\anaconda3\\envs\\idv\\lib\\site-packages (from mmcls<1.1.0,>=1.0.0rc6->mmselfsup==1.0.0) (13.3.4)\n",
      "Collecting modelindex\n",
      "  Downloading modelindex-0.0.2-py3-none-any.whl (2.1 kB)\n",
      "Requirement already satisfied: pyparsing>=2.3.1 in d:\\apps\\anaconda3\\envs\\idv\\lib\\site-packages (from matplotlib->mmselfsup==1.0.0) (3.0.9)\n",
      "Requirement already satisfied: cycler>=0.10 in d:\\apps\\anaconda3\\envs\\idv\\lib\\site-packages (from matplotlib->mmselfsup==1.0.0) (0.11.0)\n",
      "Requirement already satisfied: fonttools>=4.22.0 in d:\\apps\\anaconda3\\envs\\idv\\lib\\site-packages (from matplotlib->mmselfsup==1.0.0) (4.39.3)\n",
      "Requirement already satisfied: pillow>=6.2.0 in d:\\apps\\anaconda3\\envs\\idv\\lib\\site-packages (from matplotlib->mmselfsup==1.0.0) (9.4.0)\n",
      "Requirement already satisfied: contourpy>=1.0.1 in d:\\apps\\anaconda3\\envs\\idv\\lib\\site-packages (from matplotlib->mmselfsup==1.0.0) (1.0.7)\n",
      "Requirement already satisfied: kiwisolver>=1.0.1 in d:\\apps\\anaconda3\\envs\\idv\\lib\\site-packages (from matplotlib->mmselfsup==1.0.0) (1.4.4)\n",
      "Requirement already satisfied: python-dateutil>=2.7 in c:\\users\\holaj\\appdata\\roaming\\python\\python310\\site-packages (from matplotlib->mmselfsup==1.0.0) (2.8.2)\n",
      "Collecting threadpoolctl>=2.0.0\n",
      "  Using cached threadpoolctl-3.1.0-py3-none-any.whl (14 kB)\n",
      "Requirement already satisfied: joblib>=1.0.0 in c:\\users\\holaj\\appdata\\roaming\\python\\python310\\site-packages (from scikit-learn->mmselfsup==1.0.0) (1.1.0)\n",
      "Requirement already satisfied: wheel>=0.26 in d:\\apps\\anaconda3\\envs\\idv\\lib\\site-packages (from tensorboard->mmselfsup==1.0.0) (0.40.0)\n",
      "Collecting tensorboard-plugin-wit>=1.6.0\n",
      "  Using cached tensorboard_plugin_wit-1.8.1-py3-none-any.whl (781 kB)\n",
      "Collecting tensorboard-data-server<0.8.0,>=0.7.0\n",
      "  Using cached tensorboard_data_server-0.7.0-py3-none-any.whl (2.4 kB)\n",
      "Collecting werkzeug>=1.0.1\n",
      "  Using cached Werkzeug-2.2.3-py3-none-any.whl (233 kB)\n",
      "Collecting absl-py>=0.4\n",
      "  Using cached absl_py-1.4.0-py3-none-any.whl (126 kB)\n",
      "Collecting google-auth<3,>=1.6.3\n",
      "  Downloading google_auth-2.17.3-py2.py3-none-any.whl (178 kB)\n",
      "     ---------------------------------------- 0.0/178.2 kB ? eta -:--:--\n",
      "     -------------------------------------- 178.2/178.2 kB 5.4 MB/s eta 0:00:00\n",
      "Requirement already satisfied: markdown>=2.6.8 in d:\\apps\\anaconda3\\envs\\idv\\lib\\site-packages (from tensorboard->mmselfsup==1.0.0) (3.4.3)\n",
      "Collecting google-auth-oauthlib<1.1,>=0.5\n",
      "  Using cached google_auth_oauthlib-1.0.0-py2.py3-none-any.whl (18 kB)\n",
      "Requirement already satisfied: requests<3,>=2.21.0 in c:\\users\\holaj\\appdata\\roaming\\python\\python310\\site-packages (from tensorboard->mmselfsup==1.0.0) (2.27.1)\n",
      "Collecting grpcio>=1.48.2\n",
      "  Downloading grpcio-1.54.0-cp310-cp310-win_amd64.whl (4.1 MB)\n",
      "     ---------------------------------------- 0.0/4.1 MB ? eta -:--:--\n",
      "     ---- ----------------------------------- 0.5/4.1 MB 10.2 MB/s eta 0:00:01\n",
      "     -------- ------------------------------- 0.9/4.1 MB 9.5 MB/s eta 0:00:01\n",
      "     ------------ --------------------------- 1.3/4.1 MB 9.2 MB/s eta 0:00:01\n",
      "     ---------------- ----------------------- 1.7/4.1 MB 9.9 MB/s eta 0:00:01\n",
      "     -------------------- ------------------- 2.0/4.1 MB 9.3 MB/s eta 0:00:01\n",
      "     ------------------------ --------------- 2.5/4.1 MB 9.3 MB/s eta 0:00:01\n",
      "     ---------------------------- ----------- 2.9/4.1 MB 9.3 MB/s eta 0:00:01\n",
      "     -------------------------------- ------- 3.3/4.1 MB 9.2 MB/s eta 0:00:01\n",
      "     ----------------------------------- ---- 3.6/4.1 MB 9.0 MB/s eta 0:00:01\n",
      "     ---------------------------------------  4.0/4.1 MB 8.6 MB/s eta 0:00:01\n",
      "     ---------------------------------------- 4.1/4.1 MB 8.2 MB/s eta 0:00:00\n",
      "Collecting protobuf>=3.19.6\n",
      "  Downloading protobuf-4.22.3-cp310-abi3-win_amd64.whl (420 kB)\n",
      "     ---------------------------------------- 0.0/420.6 kB ? eta -:--:--\n",
      "     ----------------------------- -------- 327.7/420.6 kB 6.8 MB/s eta 0:00:01\n",
      "     -------------------------------------- 420.6/420.6 kB 6.5 MB/s eta 0:00:00\n",
      "Requirement already satisfied: setuptools>=41.0.0 in d:\\apps\\anaconda3\\envs\\idv\\lib\\site-packages (from tensorboard->mmselfsup==1.0.0) (67.6.1)\n",
      "Requirement already satisfied: colorama in d:\\apps\\anaconda3\\envs\\idv\\lib\\site-packages (from tqdm->mmselfsup==1.0.0) (0.4.6)\n",
      "Requirement already satisfied: pyasn1-modules>=0.2.1 in c:\\users\\holaj\\appdata\\roaming\\python\\python310\\site-packages (from google-auth<3,>=1.6.3->tensorboard->mmselfsup==1.0.0) (0.2.8)\n",
      "Collecting cachetools<6.0,>=2.0.0\n",
      "  Using cached cachetools-5.3.0-py3-none-any.whl (9.3 kB)\n",
      "Collecting rsa<5,>=3.1.4\n",
      "  Using cached rsa-4.9-py3-none-any.whl (34 kB)\n",
      "Collecting requests-oauthlib>=0.7.0\n",
      "  Using cached requests_oauthlib-1.3.1-py2.py3-none-any.whl (23 kB)\n",
      "Requirement already satisfied: idna<4,>=2.5 in d:\\apps\\anaconda3\\envs\\idv\\lib\\site-packages (from requests<3,>=2.21.0->tensorboard->mmselfsup==1.0.0) (3.4)\n",
      "Requirement already satisfied: charset-normalizer~=2.0.0 in c:\\users\\holaj\\appdata\\roaming\\python\\python310\\site-packages (from requests<3,>=2.21.0->tensorboard->mmselfsup==1.0.0) (2.0.12)\n",
      "Requirement already satisfied: certifi>=2017.4.17 in c:\\users\\holaj\\appdata\\roaming\\python\\python310\\site-packages (from requests<3,>=2.21.0->tensorboard->mmselfsup==1.0.0) (2022.5.18.1)\n",
      "Requirement already satisfied: urllib3<1.27,>=1.21.1 in d:\\apps\\anaconda3\\envs\\idv\\lib\\site-packages (from requests<3,>=2.21.0->tensorboard->mmselfsup==1.0.0) (1.26.15)\n",
      "Requirement already satisfied: MarkupSafe>=2.1.1 in d:\\apps\\anaconda3\\envs\\idv\\lib\\site-packages (from werkzeug>=1.0.1->tensorboard->mmselfsup==1.0.0) (2.1.2)\n",
      "Requirement already satisfied: model-index in d:\\apps\\anaconda3\\envs\\idv\\lib\\site-packages (from modelindex->mmcls<1.1.0,>=1.0.0rc6->mmselfsup==1.0.0) (0.1.11)\n",
      "Requirement already satisfied: markdown-it-py<3.0.0,>=2.2.0 in d:\\apps\\anaconda3\\envs\\idv\\lib\\site-packages (from rich->mmcls<1.1.0,>=1.0.0rc6->mmselfsup==1.0.0) (2.2.0)\n",
      "Requirement already satisfied: pygments<3.0.0,>=2.13.0 in d:\\apps\\anaconda3\\envs\\idv\\lib\\site-packages (from rich->mmcls<1.1.0,>=1.0.0rc6->mmselfsup==1.0.0) (2.15.0)\n",
      "Requirement already satisfied: mdurl~=0.1 in d:\\apps\\anaconda3\\envs\\idv\\lib\\site-packages (from markdown-it-py<3.0.0,>=2.2.0->rich->mmcls<1.1.0,>=1.0.0rc6->mmselfsup==1.0.0) (0.1.2)\n",
      "Collecting pyasn1<0.5.0,>=0.4.6\n",
      "  Using cached pyasn1-0.4.8-py2.py3-none-any.whl (77 kB)\n",
      "Collecting oauthlib>=3.0.0\n",
      "  Using cached oauthlib-3.2.2-py3-none-any.whl (151 kB)\n",
      "Requirement already satisfied: ordered-set in d:\\apps\\anaconda3\\envs\\idv\\lib\\site-packages (from model-index->modelindex->mmcls<1.1.0,>=1.0.0rc6->mmselfsup==1.0.0) (4.1.0)\n",
      "Requirement already satisfied: pyyaml in d:\\apps\\anaconda3\\envs\\idv\\lib\\site-packages (from model-index->modelindex->mmcls<1.1.0,>=1.0.0rc6->mmselfsup==1.0.0) (6.0)\n",
      "Requirement already satisfied: click in d:\\apps\\anaconda3\\envs\\idv\\lib\\site-packages (from model-index->modelindex->mmcls<1.1.0,>=1.0.0rc6->mmselfsup==1.0.0) (8.1.3)\n",
      "Building wheels for collected packages: future\n",
      "  Building wheel for future (setup.py): started\n",
      "  Building wheel for future (setup.py): finished with status 'done'\n",
      "  Created wheel for future: filename=future-0.18.3-py3-none-any.whl size=492053 sha256=3a6957b79793415d8343333761ae3e1a1fb6e5ecf3cab529b2b4d806bf8ecc5b\n",
      "  Stored in directory: c:\\users\\holaj\\appdata\\local\\pip\\cache\\wheels\\5e\\a9\\47\\f118e66afd12240e4662752cc22cefae5d97275623aa8ef57d\n",
      "Successfully built future\n",
      "Installing collected packages: tensorboard-plugin-wit, pyasn1, werkzeug, threadpoolctl, tensorboard-data-server, scipy, rsa, protobuf, oauthlib, grpcio, future, einops, cachetools, attrs, absl-py, requests-oauthlib, google-auth, modelindex, google-auth-oauthlib, tensorboard, mmcls, mmselfsup\n",
      "  Running setup.py develop for mmselfsup\n",
      "Successfully installed absl-py-1.4.0 attrs-23.1.0 cachetools-5.3.0 einops-0.6.0 future-0.18.3 google-auth-2.17.3 google-auth-oauthlib-1.0.0 grpcio-1.54.0 mmcls-1.0.0rc6 mmselfsup modelindex-0.0.2 oauthlib-3.2.2 protobuf-4.22.3 pyasn1-0.4.8 requests-oauthlib-1.3.1 rsa-4.9 scipy-1.10.1 tensorboard-2.12.2 tensorboard-data-server-0.7.0 tensorboard-plugin-wit-1.8.1 threadpoolctl-3.1.0 werkzeug-2.2.3\n"
     ]
    },
    {
     "name": "stderr",
     "output_type": "stream",
     "text": [
      "ERROR: pip's dependency resolver does not currently take into account all the packages that are installed. This behaviour is the source of the following dependency conflicts.\n",
      "wandb 0.12.17 requires GitPython>=1.0.0, which is not installed.\n",
      "wandb 0.12.17 requires pathtools, which is not installed.\n",
      "wandb 0.12.17 requires setproctitle, which is not installed.\n",
      "wandb 0.12.17 requires shortuuid>=0.5.0, which is not installed.\n",
      "pytest 7.1.2 requires iniconfig, which is not installed.\n",
      "pytest 7.1.2 requires tomli>=1.0.0, which is not installed.\n",
      "allennlp 2.9.3 requires lmdb, which is not installed.\n",
      "allennlp 2.9.3 requires sentencepiece, which is not installed.\n",
      "wandb 0.12.17 requires protobuf<4.0dev,>=3.12.0, but you have protobuf 4.22.3 which is incompatible.\n",
      "googleapis-common-protos 1.56.2 requires protobuf<4.0.0dev,>=3.15.0, but you have protobuf 4.22.3 which is incompatible.\n",
      "google-api-core 2.8.1 requires protobuf<4.0.0dev,>=3.15.0, but you have protobuf 4.22.3 which is incompatible.\n",
      "cached-path 1.1.2 requires filelock<3.7,>=3.4, but you have filelock 3.11.0 which is incompatible.\n",
      "cached-path 1.1.2 requires huggingface-hub<0.6.0,>=0.0.12, but you have huggingface-hub 0.13.4 which is incompatible.\n",
      "cached-path 1.1.2 requires tqdm<4.65,>=4.62, but you have tqdm 4.65.0 which is incompatible.\n",
      "allennlp 2.9.3 requires filelock<3.7,>=3.3, but you have filelock 3.11.0 which is incompatible.\n",
      "allennlp 2.9.3 requires termcolor==1.1.0, but you have termcolor 2.2.0 which is incompatible.\n",
      "allennlp 2.9.3 requires torch<1.12.0,>=1.6.0, but you have torch 2.0.0 which is incompatible.\n",
      "allennlp 2.9.3 requires torchvision<0.13.0,>=0.8.1, but you have torchvision 0.15.0 which is incompatible.\n",
      "allennlp 2.9.3 requires transformers<4.19,>=4.1, but you have transformers 4.27.4 which is incompatible.\n"
     ]
    }
   ],
   "source": [
    "# Install MMSelfSup from source\n",
    "!pip install -e ./mmselfsup "
   ]
  },
  {
   "cell_type": "markdown",
   "metadata": {},
   "source": [
    "### 1.4 检查安装是否正确"
   ]
  },
  {
   "cell_type": "code",
   "execution_count": 15,
   "metadata": {},
   "outputs": [
    {
     "ename": "AttributeError",
     "evalue": "module 'mmselfsup' has no attribute '__version__'",
     "output_type": "error",
     "traceback": [
      "\u001b[1;31m---------------------------------------------------------------------------\u001b[0m",
      "\u001b[1;31mAttributeError\u001b[0m                            Traceback (most recent call last)",
      "Cell \u001b[1;32mIn[15], line 2\u001b[0m\n\u001b[0;32m      1\u001b[0m \u001b[39mimport\u001b[39;00m \u001b[39mmmselfsup\u001b[39;00m\n\u001b[1;32m----> 2\u001b[0m \u001b[39mprint\u001b[39m(mmselfsup\u001b[39m.\u001b[39;49m__version__)\n",
      "\u001b[1;31mAttributeError\u001b[0m: module 'mmselfsup' has no attribute '__version__'"
     ]
    },
    {
     "ename": "",
     "evalue": "",
     "output_type": "error",
     "traceback": [
      "\u001b[1;31mThe Kernel crashed while executing code in the the current cell or a previous cell. Please review the code in the cell(s) to identify a possible cause of the failure. Click <a href='https://aka.ms/vscodeJupyterKernelCrash'>here</a> for more info. View Jupyter <a href='command:jupyter.viewOutput'>log</a> for further details."
     ]
    }
   ],
   "source": [
    "import mmselfsup\n",
    "print(mmselfsup.__version__)"
   ]
  },
  {
   "cell_type": "markdown",
   "metadata": {},
   "source": [
    "## 2. 准备数据集"
   ]
  },
  {
   "cell_type": "markdown",
   "metadata": {},
   "source": [
    "### 2.0 数据集介绍"
   ]
  },
  {
   "cell_type": "markdown",
   "metadata": {},
   "source": [
    "本教程将在 `Tiny ImageNet` 数据集上训练自监督模型 SimCLR。\n",
    "\n",
    "Tiny ImageNet 数据集是 ImageNet 的一个子集。\n",
    "\n",
    "该数据集包含 200 个类别，每个类别有 500 张训练图片、50 张验证图片和 50 张测试图片，共 120,000 张图像。每张图片均为 64×64 彩色图片。\n",
    "\n",
    "数据集官方下载地址：http://cs231n.stanford.edu/tiny-imagenet-200.zip"
   ]
  },
  {
   "cell_type": "markdown",
   "metadata": {},
   "source": [
    "### 2.1 下载数据集"
   ]
  },
  {
   "cell_type": "markdown",
   "metadata": {},
   "source": [
    "使用 GNU [Wget](https://www.gnu.org/software/wget/) 工具从斯坦福官方网站下载：http://cs231n.stanford.edu/tiny-imagenet-200.zip"
   ]
  },
  {
   "cell_type": "code",
   "execution_count": null,
   "metadata": {},
   "outputs": [],
   "source": [
    "%cd /content/mmselfsup"
   ]
  },
  {
   "cell_type": "code",
   "execution_count": null,
   "metadata": {},
   "outputs": [],
   "source": [
    "!mkdir data\n",
    "%cd data\n",
    "!wget http://cs231n.stanford.edu/tiny-imagenet-200.zip"
   ]
  },
  {
   "cell_type": "markdown",
   "metadata": {},
   "source": [
    "### 2.2 解压数据集"
   ]
  },
  {
   "cell_type": "code",
   "execution_count": null,
   "metadata": {},
   "outputs": [],
   "source": [
    "!unzip -q tiny-imagenet-200.zip"
   ]
  },
  {
   "cell_type": "code",
   "execution_count": null,
   "metadata": {},
   "outputs": [],
   "source": [
    "!rm -rf tiny-imagenet-200.zip"
   ]
  },
  {
   "cell_type": "markdown",
   "metadata": {},
   "source": [
    "### 2.3 查看数据集目录"
   ]
  },
  {
   "cell_type": "code",
   "execution_count": null,
   "metadata": {},
   "outputs": [],
   "source": [
    "# Check data directory\n",
    "!apt-get install tree\n",
    "!tree -d /content/mmselfsup/data"
   ]
  },
  {
   "cell_type": "markdown",
   "metadata": {},
   "source": [
    "### 2.4 准备标注文件"
   ]
  },
  {
   "cell_type": "markdown",
   "metadata": {},
   "source": [
    "为了减少大家重写 `加载数据集` 代码的负担，我们整理好了标注文件，复制到数据集根目录 `mmselfsup/data/tiny-imagenet-200` 下即可。"
   ]
  },
  {
   "cell_type": "code",
   "execution_count": null,
   "metadata": {},
   "outputs": [],
   "source": [
    "%cd /content/mmselfsup/data"
   ]
  },
  {
   "cell_type": "code",
   "execution_count": null,
   "metadata": {},
   "outputs": [],
   "source": [
    "!wget https://raw.githubusercontent.com/open-mmlab/OpenMMLabCourse/main/codes/MMSelfSup_tutorials/anno_files/train.txt -P tiny-imagenet-200\n",
    "!wget https://raw.githubusercontent.com/open-mmlab/OpenMMLabCourse/main/codes/MMSelfSup_tutorials/anno_files/val.txt -P tiny-imagenet-200"
   ]
  },
  {
   "cell_type": "markdown",
   "metadata": {},
   "source": [
    "## 3. 写模型自监督预训练的配置文件"
   ]
  },
  {
   "cell_type": "markdown",
   "metadata": {},
   "source": [
    "1. 新建一个名为 `simclr_resnet50_1xb32-coslr-1e_tinyin200.py` 的配置文件。（配置文件命名要求 & 含义可参考[这里](https://mmsegmentation.readthedocs.io/zh_CN/latest/tutorials/config.html#id3))\n",
    "\n",
    "\n",
    "\n",
    "2. `simclr_resnet50_1xb32-coslr-1e_tinyin200.py` 训练配置文件的内容：\n",
    "    1. 继承 [simclr_resnet50_8xb32-coslr-200e_in1k.py](https://github.com/open-mmlab/mmselfsup/blob/master/configs/selfsup/simclr/simclr_resnet50_8xb32-coslr-200e_in1k.py) 配置文件\n",
    "    2. 根据需求修改参数 samples_per_gpu（单个 GPU 的 Batch size）和 workers_per_gpu （单个 GPU 分配的数据加载线程数）\n",
    "    3. 修改数据集路径和数据标注文件路径\n",
    "    4. 根据 batch size 调整学习率（调整原则请参考：[这里](https://mmselfsup.readthedocs.io/zh_CN/latest/get_started.html#id2)）\n",
    "    5. 修改训练的总轮数 epoch"
   ]
  },
  {
   "cell_type": "code",
   "execution_count": null,
   "metadata": {},
   "outputs": [],
   "source": [
    "%cd /content/mmselfsup"
   ]
  },
  {
   "cell_type": "code",
   "execution_count": null,
   "metadata": {},
   "outputs": [],
   "source": [
    "%%writefile /content/mmselfsup/configs/selfsup/simclr/simclr_resnet50_1xb32-coslr-1e_tinyin200.py\n",
    "\n",
    "_base_ = 'simclr_resnet50_8xb32-coslr-200e_in1k.py'\n",
    "\n",
    "# dataset\n",
    "data = dict(\n",
    "    samples_per_gpu=32, \n",
    "    workers_per_gpu=2,\n",
    "    train=dict(\n",
    "        data_source=dict(\n",
    "            data_prefix='data/tiny-imagenet-200/train',\n",
    "            ann_file='data/tiny-imagenet-200/train.txt',\n",
    "        )\n",
    "    )\n",
    ")\n",
    "\n",
    "# optimizer\n",
    "optimizer = dict(\n",
    "    lr=0.3 * ((32 * 1) / (32 * 8)),\n",
    ")\n",
    "\n",
    "runner = dict(max_epochs=1)"
   ]
  },
  {
   "cell_type": "markdown",
   "metadata": {},
   "source": [
    "## 4. 模型自监督预训练"
   ]
  },
  {
   "cell_type": "markdown",
   "metadata": {},
   "source": [
    "我们推荐使用分布式训练工具 [tools/dist_train.sh](https://github.com/open-mmlab/mmselfsup/blob/master/tools/dist_train.sh) 来启动训练任务（即使您只用一张 GPU 进行训练）。\n",
    "因为一些自监督预训练算法需要用多张 GPU 进行训练，为此 MMSelfSup 支持了多卡训练可能会用到的模块，如 `SyncBN` 等。如果算法在训练的过程中使用到了这些模块，但不使用分布式训练，就会报错。\n",
    "\n",
    "```shell\n",
    "bash tools/dist_train.sh ${CONFIG_FILE} ${GPUS} --work-dir ${YOUR_WORK_DIR} [optional arguments]\n",
    "```\n",
    "\n",
    "参数:\n",
    "+ CONFIG_FILE：自监督训练的配置文件所在路径\n",
    "\n",
    "+ GPUS：进行训练时所使用的 GPU 数量\n",
    "\n",
    "+ work-dir：训练过程中产生模型和日志等文件的保存路径\n",
    "\n",
    "其他可选参数 `optional arguments` 可参考[这里](https://mmselfsup.readthedocs.io/zh_CN/latest/get_started.html#id3)。"
   ]
  },
  {
   "cell_type": "code",
   "execution_count": null,
   "metadata": {},
   "outputs": [],
   "source": [
    "%cd /content/mmselfsup"
   ]
  },
  {
   "cell_type": "code",
   "execution_count": null,
   "metadata": {},
   "outputs": [],
   "source": [
    "!bash tools/dist_train.sh \\\n",
    "configs/selfsup/simclr/simclr_resnet50_1xb32-coslr-1e_tinyin200.py \\\n",
    "1 \\\n",
    "--work_dir work_dirs/selfsup/simclr/simclr_resnet50_1xb32-coslr-1e_tinyin200/ "
   ]
  }
 ],
 "metadata": {
  "kernelspec": {
   "display_name": "Python 3",
   "language": "python",
   "name": "python3"
  },
  "language_info": {
   "codemirror_mode": {
    "name": "ipython",
    "version": 3
   },
   "file_extension": ".py",
   "mimetype": "text/x-python",
   "name": "python",
   "nbconvert_exporter": "python",
   "pygments_lexer": "ipython3",
   "version": "3.10.0"
  }
 },
 "nbformat": 4,
 "nbformat_minor": 2
}
