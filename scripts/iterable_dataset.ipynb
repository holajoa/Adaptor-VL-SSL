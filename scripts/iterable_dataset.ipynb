{
 "cells": [
  {
   "cell_type": "code",
   "execution_count": 2,
   "metadata": {},
   "outputs": [],
   "source": [
    "import torch\n",
    "import torch.nn as nn\n",
    "from torch.utils.data import Dataset, TensorDataset, DataLoader\n",
    "\n",
    "import os\n",
    "from tqdm import tqdm\n",
    "\n",
    "from dataset.dataset import (\n",
    "    # MultimodalPretrainedEmbeddingsDatasetLoader, \n",
    "    MultimodalPretrainedEmbeddingsDataset, \n",
    ")\n",
    "\n",
    "from models.adaptor import Adaptor, AdaptorTrainer, AdaptorTrainingArguments, ExternalLoggingCallback\n",
    "from models.configurations import (\n",
    "    TEXT_PRETRAINED_AVAILABLE,\n",
    "    VISION_PRETRAINED_AVAILABLE,\n",
    "    VISION_MODEL_TYPE_2_DATA_TRANSFORM,\n",
    "    VISION_MODEL_TYPE_2_VISION_OUTPUT_DIM, \n",
    ")\n",
    "from utils.utils import load_timm_model, freeze_encoder\n",
    "from utils.model_utils import load_vision_model\n",
    "from transformers import AutoTokenizer\n",
    "from transformers import BertModel\n",
    "from transformers import TrainingArguments\n",
    "\n",
    "from torch.optim import AdamW\n",
    "from torch.optim.lr_scheduler import CosineAnnealingWarmRestarts\n",
    "\n",
    "import torch.multiprocessing as mp\n",
    "from torch.utils.data.distributed import DistributedSampler\n",
    "from torch.nn.parallel import DistributedDataParallel as DDP\n",
    "from torch.distributed import init_process_group, destroy_process_group\n",
    "\n",
    "from datasets import Dataset\n",
    "\n",
    "import argparse\n",
    "\n",
    "import logging"
   ]
  },
  {
   "cell_type": "code",
   "execution_count": 15,
   "metadata": {},
   "outputs": [],
   "source": [
    "\n",
    "class MultimodalPretrainedEmbeddingsIteratbleDataset(torch.utils.data.IterableDataset):\n",
    "    def __init__(\n",
    "        self, \n",
    "        text_embeds_raw_dir: str,\n",
    "        image_embeds_raw_dir: str,\n",
    "        split: str='train',\n",
    "        device='cpu',\n",
    "        num_of_batches=-1, \n",
    "        shuffle=True,\n",
    "    ):\n",
    "        super().__init__()\n",
    "        self.text_embeds_raw_dir = os.path.join(text_embeds_raw_dir, split)\n",
    "        self.image_embeds_raw_dir = os.path.join(image_embeds_raw_dir, split)\n",
    "        self.device = torch.device(device)\n",
    "        self.num_of_batches = num_of_batches\n",
    "        \n",
    "        self.text_tensor_names = sorted([f for f in os.listdir(self.text_embeds_raw_dir)],\n",
    "                                        key=lambda x: int(x.split('_')[1].split('.')[0]))\n",
    "        self.image_tensor_names = sorted([f for f in os.listdir(self.image_embeds_raw_dir)], \n",
    "                                         key=lambda x: int(x.split('_')[1].split('.')[0]))\n",
    "        if self.num_of_batches > 0:\n",
    "            self.text_tensor_names = self.text_tensor_names[:self.num_of_batches]\n",
    "            self.image_tensor_names = self.image_tensor_names[:self.num_of_batches]\n",
    "        else:\n",
    "            self.num_of_batches = len(self.text_tensor_names)\n",
    "        \n",
    "        if shuffle:\n",
    "            self.shuffle_batches()\n",
    "        \n",
    "        assert self.text_tensor_names == self.image_tensor_names, \"text and image tensor names do not match\"\n",
    "        self.batch_size = torch.load(os.path.join(self.text_embeds_raw_dir, self.text_tensor_names[0]), \n",
    "                                     map_location='cpu')[0].shape[0]\n",
    "    \n",
    "    def process_single_tensor_file(self, text_tensor, image_tensor):\n",
    "        for tt, it in zip(text_tensor, image_tensor):\n",
    "            yield {'text_embeds_raw':tt, 'image_embeds_raw':it}\n",
    "    \n",
    "    def shuffle_batches(self):\n",
    "        shuffled_idx = torch.randperm(self.num_of_batches)\n",
    "        self.text_tensor_names = [self.text_tensor_names[i] for i in shuffled_idx]\n",
    "        self.image_tensor_names = [self.image_tensor_names[i] for i in shuffled_idx]\n",
    "    \n",
    "    def __iter__(self):\n",
    "        for text_tensor_name, image_tensor_name in zip(self.text_tensor_names, self.image_tensor_names):\n",
    "            text_tensor = torch.load(os.path.join(self.text_embeds_raw_dir, text_tensor_name), \n",
    "                                     map_location=self.device)\n",
    "            image_tensor = torch.load(os.path.join(self.image_embeds_raw_dir, image_tensor_name), \n",
    "                                      map_location=self.device)\n",
    "            if isinstance(image_tensor, dict):  ### For ResNetAE\n",
    "                image_tensor = image_tensor['z']\n",
    "            \n",
    "            yield from self.process_single_tensor_file(text_tensor, image_tensor)\n",
    "            # for tt, it in zip(text_tensor, image_tensor):\n",
    "            #     yield {'text_embeds_raw':tt, 'image_embeds_raw':it}\n",
    "    \n",
    "    # def __getitem__(self, idx):\n",
    "    #     batch_idx = idx // self.batch_size\n",
    "    #     batch_item_idx = idx % self.batch_size\n",
    "        \n",
    "    #     text_tensor = torch.load(os.path.join(self.text_embeds_raw_dir, self.text_tensor_names[batch_idx]), \n",
    "    #                              map_location=self.device)[batch_item_idx]\n",
    "    #     image_tensor = torch.load(os.path.join(self.image_embeds_raw_dir, self.image_tensor_names[batch_idx]), \n",
    "    #                               map_location=self.device)\n",
    "    #     if isinstance(image_tensor, dict):  ### For ResNetAE\n",
    "    #         image_tensor = image_tensor['z']\n",
    "    #     image_tensor = image_tensor[batch_item_idx]\n",
    "        \n",
    "    #     # print('Single sample loaded. ')\n",
    "    #     return {'text_embeds_raw':text_tensor, 'image_embeds_raw':image_tensor}\n",
    "\n",
    "    # def __len__(self):\n",
    "    #     return self.num_of_batches * self.batch_size"
   ]
  },
  {
   "cell_type": "code",
   "execution_count": 22,
   "metadata": {},
   "outputs": [],
   "source": [
    "text_embeds_raw_dir = '/vol/bitbucket/jq619/individual-project/saved_embeddings/text_embeds/BioBERT'\n",
    "image_embeds_raw_dir = '/vol/bitbucket/jq619/individual-project/saved_embeddings/image_embeds/ResNetAE'\n",
    "\n",
    "num_of_batches = -1\n",
    "dataset_device = 'cpu'"
   ]
  },
  {
   "cell_type": "code",
   "execution_count": 23,
   "metadata": {},
   "outputs": [],
   "source": [
    "train_dataset = MultimodalPretrainedEmbeddingsDataset(text_embeds_raw_dir, image_embeds_raw_dir, \n",
    "                                                      split='train', num_of_batches=num_of_batches, \n",
    "                                                      device=dataset_device)"
   ]
  },
  {
   "cell_type": "code",
   "execution_count": 31,
   "metadata": {},
   "outputs": [],
   "source": [
    "from datasets import Dataset\n",
    "\n",
    "def gen():\n",
    "    # or if it's an IterableDataset\n",
    "    for ex in train_dataset:\n",
    "        yield ex\n",
    "\n",
    "dset = Dataset.from_generator(gen, streaming=True)"
   ]
  },
  {
   "cell_type": "code",
   "execution_count": 32,
   "metadata": {},
   "outputs": [
    {
     "ename": "KeyboardInterrupt",
     "evalue": "",
     "output_type": "error",
     "traceback": [
      "\u001b[0;31m---------------------------------------------------------------------------\u001b[0m",
      "\u001b[0;31mKeyboardInterrupt\u001b[0m                         Traceback (most recent call last)",
      "Cell \u001b[0;32mIn[32], line 3\u001b[0m\n\u001b[1;32m      1\u001b[0m indices \u001b[39m=\u001b[39m []\n\u001b[0;32m----> 3\u001b[0m \u001b[39mfor\u001b[39;00m i, data \u001b[39min\u001b[39;00m \u001b[39menumerate\u001b[39m(dset):\n\u001b[1;32m      4\u001b[0m     indices\u001b[39m.\u001b[39mappend(i)\n\u001b[1;32m      5\u001b[0m     \u001b[39m# print(data)\u001b[39;00m\n",
      "File \u001b[0;32m/vol/bitbucket/jq619/idv/lib/python3.10/site-packages/datasets/iterable_dataset.py:937\u001b[0m, in \u001b[0;36mIterableDataset.__iter__\u001b[0;34m(self)\u001b[0m\n\u001b[1;32m    934\u001b[0m         \u001b[39myield from\u001b[39;00m \u001b[39mself\u001b[39m\u001b[39m.\u001b[39m_iter_pytorch(ex_iterable)\n\u001b[1;32m    935\u001b[0m         \u001b[39mreturn\u001b[39;00m\n\u001b[0;32m--> 937\u001b[0m \u001b[39mfor\u001b[39;00m key, example \u001b[39min\u001b[39;00m ex_iterable:\n\u001b[1;32m    938\u001b[0m     \u001b[39mif\u001b[39;00m \u001b[39mself\u001b[39m\u001b[39m.\u001b[39mfeatures:\n\u001b[1;32m    939\u001b[0m         \u001b[39m# `IterableDataset` automatically fills missing columns with None.\u001b[39;00m\n\u001b[1;32m    940\u001b[0m         \u001b[39m# This is done with `_apply_feature_types_on_example`.\u001b[39;00m\n\u001b[1;32m    941\u001b[0m         \u001b[39myield\u001b[39;00m _apply_feature_types_on_example(\n\u001b[1;32m    942\u001b[0m             example, \u001b[39mself\u001b[39m\u001b[39m.\u001b[39mfeatures, token_per_repo_id\u001b[39m=\u001b[39m\u001b[39mself\u001b[39m\u001b[39m.\u001b[39m_token_per_repo_id\n\u001b[1;32m    943\u001b[0m         )\n",
      "File \u001b[0;32m/vol/bitbucket/jq619/idv/lib/python3.10/site-packages/datasets/iterable_dataset.py:113\u001b[0m, in \u001b[0;36mExamplesIterable.__iter__\u001b[0;34m(self)\u001b[0m\n\u001b[1;32m    112\u001b[0m \u001b[39mdef\u001b[39;00m \u001b[39m__iter__\u001b[39m(\u001b[39mself\u001b[39m):\n\u001b[0;32m--> 113\u001b[0m     \u001b[39myield from\u001b[39;00m \u001b[39mself\u001b[39m\u001b[39m.\u001b[39mgenerate_examples_fn(\u001b[39m*\u001b[39m\u001b[39m*\u001b[39m\u001b[39mself\u001b[39m\u001b[39m.\u001b[39mkwargs)\n",
      "File \u001b[0;32m/vol/bitbucket/jq619/idv/lib/python3.10/site-packages/datasets/packaged_modules/generator/generator.py:30\u001b[0m, in \u001b[0;36mGenerator._generate_examples\u001b[0;34m(self, **gen_kwargs)\u001b[0m\n\u001b[1;32m     29\u001b[0m \u001b[39mdef\u001b[39;00m \u001b[39m_generate_examples\u001b[39m(\u001b[39mself\u001b[39m, \u001b[39m*\u001b[39m\u001b[39m*\u001b[39mgen_kwargs):\n\u001b[0;32m---> 30\u001b[0m     \u001b[39mfor\u001b[39;00m idx, ex \u001b[39min\u001b[39;00m \u001b[39menumerate\u001b[39m(\u001b[39mself\u001b[39m\u001b[39m.\u001b[39mconfig\u001b[39m.\u001b[39mgenerator(\u001b[39m*\u001b[39m\u001b[39m*\u001b[39mgen_kwargs)):\n\u001b[1;32m     31\u001b[0m         \u001b[39myield\u001b[39;00m idx, ex\n",
      "Cell \u001b[0;32mIn[31], line 5\u001b[0m, in \u001b[0;36mgen\u001b[0;34m()\u001b[0m\n\u001b[1;32m      3\u001b[0m \u001b[39mdef\u001b[39;00m \u001b[39mgen\u001b[39m():\n\u001b[1;32m      4\u001b[0m     \u001b[39m# or if it's an IterableDataset\u001b[39;00m\n\u001b[0;32m----> 5\u001b[0m     \u001b[39mfor\u001b[39;00m ex \u001b[39min\u001b[39;00m train_dataset:\n\u001b[1;32m      6\u001b[0m         \u001b[39myield\u001b[39;00m ex\n",
      "Cell \u001b[0;32mIn[15], line 47\u001b[0m, in \u001b[0;36mMultimodalPretrainedEmbeddingsDataset.__iter__\u001b[0;34m(self)\u001b[0m\n\u001b[1;32m     44\u001b[0m \u001b[39mfor\u001b[39;00m text_tensor_name, image_tensor_name \u001b[39min\u001b[39;00m \u001b[39mzip\u001b[39m(\u001b[39mself\u001b[39m\u001b[39m.\u001b[39mtext_tensor_names, \u001b[39mself\u001b[39m\u001b[39m.\u001b[39mimage_tensor_names):\n\u001b[1;32m     45\u001b[0m     text_tensor \u001b[39m=\u001b[39m torch\u001b[39m.\u001b[39mload(os\u001b[39m.\u001b[39mpath\u001b[39m.\u001b[39mjoin(\u001b[39mself\u001b[39m\u001b[39m.\u001b[39mtext_embeds_raw_dir, text_tensor_name), \n\u001b[1;32m     46\u001b[0m                              map_location\u001b[39m=\u001b[39m\u001b[39mself\u001b[39m\u001b[39m.\u001b[39mdevice)\n\u001b[0;32m---> 47\u001b[0m     image_tensor \u001b[39m=\u001b[39m torch\u001b[39m.\u001b[39;49mload(os\u001b[39m.\u001b[39;49mpath\u001b[39m.\u001b[39;49mjoin(\u001b[39mself\u001b[39;49m\u001b[39m.\u001b[39;49mimage_embeds_raw_dir, image_tensor_name), \n\u001b[1;32m     48\u001b[0m                               map_location\u001b[39m=\u001b[39;49m\u001b[39mself\u001b[39;49m\u001b[39m.\u001b[39;49mdevice)\n\u001b[1;32m     49\u001b[0m     \u001b[39mif\u001b[39;00m \u001b[39misinstance\u001b[39m(image_tensor, \u001b[39mdict\u001b[39m):  \u001b[39m### For ResNetAE\u001b[39;00m\n\u001b[1;32m     50\u001b[0m         image_tensor \u001b[39m=\u001b[39m image_tensor[\u001b[39m'\u001b[39m\u001b[39mz\u001b[39m\u001b[39m'\u001b[39m]\n",
      "File \u001b[0;32m/vol/bitbucket/jq619/idv/lib/python3.10/site-packages/torch/serialization.py:712\u001b[0m, in \u001b[0;36mload\u001b[0;34m(f, map_location, pickle_module, **pickle_load_args)\u001b[0m\n\u001b[1;32m    710\u001b[0m             opened_file\u001b[39m.\u001b[39mseek(orig_position)\n\u001b[1;32m    711\u001b[0m             \u001b[39mreturn\u001b[39;00m torch\u001b[39m.\u001b[39mjit\u001b[39m.\u001b[39mload(opened_file)\n\u001b[0;32m--> 712\u001b[0m         \u001b[39mreturn\u001b[39;00m _load(opened_zipfile, map_location, pickle_module, \u001b[39m*\u001b[39;49m\u001b[39m*\u001b[39;49mpickle_load_args)\n\u001b[1;32m    713\u001b[0m \u001b[39mreturn\u001b[39;00m _legacy_load(opened_file, map_location, pickle_module, \u001b[39m*\u001b[39m\u001b[39m*\u001b[39mpickle_load_args)\n",
      "File \u001b[0;32m/vol/bitbucket/jq619/idv/lib/python3.10/site-packages/torch/serialization.py:1046\u001b[0m, in \u001b[0;36m_load\u001b[0;34m(zip_file, map_location, pickle_module, pickle_file, **pickle_load_args)\u001b[0m\n\u001b[1;32m   1044\u001b[0m unpickler \u001b[39m=\u001b[39m UnpicklerWrapper(data_file, \u001b[39m*\u001b[39m\u001b[39m*\u001b[39mpickle_load_args)\n\u001b[1;32m   1045\u001b[0m unpickler\u001b[39m.\u001b[39mpersistent_load \u001b[39m=\u001b[39m persistent_load\n\u001b[0;32m-> 1046\u001b[0m result \u001b[39m=\u001b[39m unpickler\u001b[39m.\u001b[39;49mload()\n\u001b[1;32m   1048\u001b[0m torch\u001b[39m.\u001b[39m_utils\u001b[39m.\u001b[39m_validate_loaded_sparse_tensors()\n\u001b[1;32m   1050\u001b[0m \u001b[39mreturn\u001b[39;00m result\n",
      "File \u001b[0;32m/vol/bitbucket/jq619/idv/lib/python3.10/site-packages/torch/serialization.py:1016\u001b[0m, in \u001b[0;36m_load.<locals>.persistent_load\u001b[0;34m(saved_id)\u001b[0m\n\u001b[1;32m   1014\u001b[0m \u001b[39mif\u001b[39;00m key \u001b[39mnot\u001b[39;00m \u001b[39min\u001b[39;00m loaded_storages:\n\u001b[1;32m   1015\u001b[0m     nbytes \u001b[39m=\u001b[39m numel \u001b[39m*\u001b[39m torch\u001b[39m.\u001b[39m_utils\u001b[39m.\u001b[39m_element_size(dtype)\n\u001b[0;32m-> 1016\u001b[0m     load_tensor(dtype, nbytes, key, _maybe_decode_ascii(location))\n\u001b[1;32m   1018\u001b[0m \u001b[39mreturn\u001b[39;00m loaded_storages[key]\n",
      "File \u001b[0;32m/vol/bitbucket/jq619/idv/lib/python3.10/site-packages/torch/serialization.py:997\u001b[0m, in \u001b[0;36m_load.<locals>.load_tensor\u001b[0;34m(dtype, numel, key, location)\u001b[0m\n\u001b[1;32m    994\u001b[0m \u001b[39mdef\u001b[39;00m \u001b[39mload_tensor\u001b[39m(dtype, numel, key, location):\n\u001b[1;32m    995\u001b[0m     name \u001b[39m=\u001b[39m \u001b[39mf\u001b[39m\u001b[39m'\u001b[39m\u001b[39mdata/\u001b[39m\u001b[39m{\u001b[39;00mkey\u001b[39m}\u001b[39;00m\u001b[39m'\u001b[39m\n\u001b[0;32m--> 997\u001b[0m     storage \u001b[39m=\u001b[39m zip_file\u001b[39m.\u001b[39;49mget_storage_from_record(name, numel, torch\u001b[39m.\u001b[39;49m_UntypedStorage)\u001b[39m.\u001b[39mstorage()\u001b[39m.\u001b[39m_untyped()\n\u001b[1;32m    998\u001b[0m     \u001b[39m# TODO: Once we decide to break serialization FC, we can\u001b[39;00m\n\u001b[1;32m    999\u001b[0m     \u001b[39m# stop wrapping with _TypedStorage\u001b[39;00m\n\u001b[1;32m   1000\u001b[0m     loaded_storages[key] \u001b[39m=\u001b[39m torch\u001b[39m.\u001b[39mstorage\u001b[39m.\u001b[39m_TypedStorage(\n\u001b[1;32m   1001\u001b[0m         wrap_storage\u001b[39m=\u001b[39mrestore_location(storage, location),\n\u001b[1;32m   1002\u001b[0m         dtype\u001b[39m=\u001b[39mdtype)\n",
      "\u001b[0;31mKeyboardInterrupt\u001b[0m: "
     ]
    }
   ],
   "source": [
    "indices = []\n",
    "\n",
    "for i, data in enumerate(dset):\n",
    "    indices.append(i)\n",
    "    # print(data)"
   ]
  },
  {
   "cell_type": "code",
   "execution_count": 33,
   "metadata": {},
   "outputs": [
    {
     "data": {
      "text/plain": [
       "2431"
      ]
     },
     "execution_count": 33,
     "metadata": {},
     "output_type": "execute_result"
    }
   ],
   "source": [
    "indices[-1]"
   ]
  },
  {
   "cell_type": "code",
   "execution_count": null,
   "metadata": {},
   "outputs": [],
   "source": []
  }
 ],
 "metadata": {
  "kernelspec": {
   "display_name": "idv",
   "language": "python",
   "name": "python3"
  },
  "language_info": {
   "codemirror_mode": {
    "name": "ipython",
    "version": 3
   },
   "file_extension": ".py",
   "mimetype": "text/x-python",
   "name": "python",
   "nbconvert_exporter": "python",
   "pygments_lexer": "ipython3",
   "version": "3.10.6"
  },
  "orig_nbformat": 4
 },
 "nbformat": 4,
 "nbformat_minor": 2
}
