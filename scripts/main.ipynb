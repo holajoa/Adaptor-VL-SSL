{
 "cells": [
  {
   "cell_type": "code",
   "execution_count": 17,
   "metadata": {},
   "outputs": [],
   "source": [
    "def args_to_str(args:str, var:dict={'SAVED_EMBEDDINGS_DIR':\"/vol/bitbucket/jq619/individual-project/saved_embeddings\"}):\n",
    "    for k, v in var.items():\n",
    "        args = args.replace('$'+k, v)\n",
    "    args = args.split(' ')[2:]\n",
    "    args = [f\"\\\"{arg}\\\"\" for arg in args]\n",
    "    args = \", \\n\".join(args)\n",
    "    return args"
   ]
  },
  {
   "cell_type": "code",
   "execution_count": 19,
   "metadata": {},
   "outputs": [
    {
     "name": "stdout",
     "output_type": "stream",
     "text": [
      "\"--vision_model_type\", \n",
      "\"ae\", \n",
      "\"--vision_pretrained\", \n",
      "\"101-elastic\", \n",
      "\"--text_pretrained\", \n",
      "\"dmis-lab/biobert-v1.1\", \n",
      "\"--batch_size\", \n",
      "\"128\", \n",
      "\"--data_pct\", \n",
      "\"0.01\", \n",
      "\"--num_hidden_layers\", \n",
      "\"1\", \n",
      "\"--num_of_batches\", \n",
      "\"100\", \n",
      "\"--num_train_epochs\", \n",
      "\"10\", \n",
      "\"--seed\", \n",
      "\"42\", \n",
      "\"--text_embeds_raw_dir\", \n",
      "\"/vol/bitbucket/jq619/individual-project/saved_embeddings/text_embeds/BioBERT\", \n",
      "\"--image_embeds_raw_dir\", \n",
      "\"/vol/bitbucket/jq619/individual-project/saved_embeddings/image_embeds/ResNetAE\", \n",
      "\"--output_dir\", \n",
      "\"./results/BioBERT_ResNetAE\"\n"
     ]
    }
   ],
   "source": [
    "args = 'python3 ./pretrain.py --vision_model_type ae --vision_pretrained 101-elastic --text_pretrained dmis-lab/biobert-v1.1 --batch_size 128 --data_pct 0.01 --num_hidden_layers 1 --num_of_batches 100 --num_train_epochs 10 --seed 42 --text_embeds_raw_dir $SAVED_EMBEDDINGS_DIR/text_embeds/BioBERT --image_embeds_raw_dir $SAVED_EMBEDDINGS_DIR/image_embeds/ResNetAE --output_dir ./results/BioBERT_ResNetAE'\n",
    "print(args_to_str(args))"
   ]
  },
  {
   "cell_type": "code",
   "execution_count": 1,
   "metadata": {},
   "outputs": [
    {
     "name": "stderr",
     "output_type": "stream",
     "text": [
      "d:\\Apps\\Anaconda3\\envs\\idv\\lib\\site-packages\\tqdm\\auto.py:21: TqdmWarning: IProgress not found. Please update jupyter and ipywidgets. See https://ipywidgets.readthedocs.io/en/stable/user_install.html\n",
      "  from .autonotebook import tqdm as notebook_tqdm\n"
     ]
    }
   ],
   "source": [
    "import torch \n",
    "import torch.nn as nn\n",
    "from typing import List, Union, Tuple, Dict, Optional\n",
    "\n",
    "import numpy as np\n",
    "\n",
    "from transformers import AutoTokenizer\n",
    "from transformers import BertModel, AutoModel, ViTImageProcessor\n",
    "\n",
    "import torchxrayvision as xrv\n",
    "from adaptor import Adaptor\n",
    "from image_processor import ae_image_processor, timm_image_processor\n",
    "from utils import load_timm_model\n",
    "\n",
    "import skimage"
   ]
  },
  {
   "cell_type": "code",
   "execution_count": 2,
   "metadata": {},
   "outputs": [
    {
     "name": "stderr",
     "output_type": "stream",
     "text": [
      "Some weights of the model checkpoint at ./weights/ClinicalBERT_checkpoint/ClinicalBERT_pretraining_pytorch_checkpoint were not used when initializing BertModel: ['classifier.bias', 'classifier.weight']\n",
      "- This IS expected if you are initializing BertModel from the checkpoint of a model trained on another task or with another architecture (e.g. initializing a BertForSequenceClassification model from a BertForPreTraining model).\n",
      "- This IS NOT expected if you are initializing BertModel from the checkpoint of a model that you expect to be exactly identical (initializing a BertForSequenceClassification model from a BertForSequenceClassification model).\n"
     ]
    }
   ],
   "source": [
    "text_pretrained_available = [\n",
    "    \"bert-base-uncased\", \n",
    "    \"dmis-lab/biobert-v1.1\", \n",
    "    \"microsoft/BiomedNLP-PubMedBERT-base-uncased-abstract-fulltext\", \n",
    "    \"microsoft/BiomedVLP-CXR-BERT-general\", \n",
    "]\n",
    "\n",
    "# vision_model = xrv.autoencoders.ResNetAE(weights=\"101-elastic\")\n",
    "\n",
    "vision_model = load_timm_model('swin_base_patch4_window7_224', pretrained=True, retain_head=False)\n",
    "\n",
    "# text_pretrained = \"microsoft/BiomedVLP-CXR-BERT-general\"\n",
    "text_pretrained = \"./weights/ClinicalBERT_checkpoint/ClinicalBERT_pretraining_pytorch_checkpoint\"\n",
    "text_model = BertModel.from_pretrained(text_pretrained)\n",
    "\n",
    "model = Adaptor(\n",
    "    text_model=text_model,\n",
    "    vision_model=vision_model,\n",
    "    vision_model_type='timm', \n",
    "    vision_output_dim=1024,\n",
    "    projection_dim=768,\n",
    ")"
   ]
  },
  {
   "cell_type": "code",
   "execution_count": 3,
   "metadata": {},
   "outputs": [],
   "source": [
    "tokenizer = AutoTokenizer.from_pretrained(text_pretrained)\n",
    "image_processor = lambda x: ViTImageProcessor()(x, return_tensors=\"pt\", return_dict=True)\n",
    "\n",
    "img_path = 'sample.jpeg'\n",
    "img = skimage.io.imread(img_path)\n",
    "imgs = np.stack([img, img])\n",
    "vision_inputs = image_processor(imgs)"
   ]
  },
  {
   "cell_type": "code",
   "execution_count": 4,
   "metadata": {},
   "outputs": [],
   "source": [
    "text_inputs = tokenizer(\n",
    "    text=[\"Nodule\", \"Lung Lesion\"], \n",
    "    return_tensors=\"pt\", padding=True, \n",
    ")\n",
    "inputs = {**vision_inputs, **text_inputs}\n",
    "outputs = model(**inputs, return_dict=True, return_loss=True)"
   ]
  },
  {
   "cell_type": "code",
   "execution_count": 5,
   "metadata": {},
   "outputs": [
    {
     "data": {
      "text/plain": [
       "CLIPOutput(loss=tensor(0.6970, grad_fn=<DivBackward0>), logits_per_image=tensor([[5.6564, 5.7795],\n",
       "        [5.4444, 5.5670]], grad_fn=<PermuteBackward0>), logits_per_text=tensor([[5.6564, 5.4444],\n",
       "        [5.7795, 5.5670]], grad_fn=<MulBackward0>), text_embeds=tensor([[[-0.0491,  0.0511,  0.0189,  ...,  0.0209, -0.0117, -0.0364],\n",
       "         [-0.0354,  0.0553,  0.0241,  ...,  0.0145, -0.0324, -0.0109],\n",
       "         [-0.0534,  0.0547,  0.0104,  ...,  0.0183, -0.0111, -0.0345],\n",
       "         [-0.0395,  0.0689,  0.0027,  ..., -0.0001, -0.0232, -0.0713],\n",
       "         [-0.0561,  0.0393,  0.0314,  ...,  0.0209, -0.0105, -0.0294]],\n",
       "\n",
       "        [[-0.0546,  0.0490,  0.0094,  ...,  0.0255, -0.0133, -0.0398],\n",
       "         [-0.0497,  0.0555,  0.0149,  ...,  0.0104, -0.0076, -0.0357],\n",
       "         [-0.0549,  0.0562,  0.0238,  ...,  0.0292, -0.0048, -0.0395],\n",
       "         [-0.0454,  0.0566,  0.0048,  ...,  0.0393, -0.0093, -0.0353],\n",
       "         [-0.0412,  0.0719, -0.0031,  ...,  0.0033, -0.0262, -0.0612]]],\n",
       "       grad_fn=<DivBackward0>), image_embeds=tensor([[[-6.8432e-04, -1.1880e-02, -2.4836e-02,  ..., -2.0179e-02,\n",
       "          -4.9377e-04, -4.6017e-02],\n",
       "         [-2.4289e-02, -1.1513e-02, -3.9506e-02,  ...,  1.6774e-02,\n",
       "          -1.9370e-02, -5.4733e-02],\n",
       "         [-3.0713e-02, -1.8003e-02, -4.4770e-02,  ...,  8.3226e-03,\n",
       "          -1.1076e-02, -6.3705e-02],\n",
       "         ...,\n",
       "         [-1.6248e-02, -1.2854e-02, -2.2754e-02,  ...,  7.2292e-03,\n",
       "          -2.3865e-03, -6.7170e-02],\n",
       "         [-1.5127e-02, -1.3792e-02, -3.8273e-02,  ...,  3.4283e-03,\n",
       "          -2.7077e-03, -6.8026e-02],\n",
       "         [-3.2868e-02, -7.2872e-03, -2.6604e-02,  ...,  1.8661e-05,\n",
       "          -1.4003e-03, -7.1309e-02]],\n",
       "\n",
       "        [[-3.4480e-02, -2.0027e-02, -2.4795e-02,  ...,  1.7011e-02,\n",
       "          -1.7400e-02, -6.2849e-02],\n",
       "         [-2.5874e-02,  1.6809e-02, -1.7341e-02,  ...,  1.1603e-02,\n",
       "           1.4085e-03, -4.2809e-02],\n",
       "         [-1.8463e-02, -1.2840e-02, -2.7087e-02,  ..., -2.0315e-02,\n",
       "          -1.7514e-02, -7.0832e-02],\n",
       "         ...,\n",
       "         [-3.5115e-02, -1.0347e-02, -2.9357e-02,  ...,  7.2918e-03,\n",
       "           3.7951e-03, -5.9191e-02],\n",
       "         [-3.4307e-02, -1.4822e-02, -1.9650e-02,  ..., -5.3267e-03,\n",
       "           9.9264e-03, -5.6868e-02],\n",
       "         [-9.2555e-03, -7.0254e-03, -3.0467e-02,  ...,  1.3842e-03,\n",
       "           1.0842e-02, -6.4701e-02]]], grad_fn=<DivBackward0>), text_model_output=None, vision_model_output=None)"
      ]
     },
     "execution_count": 5,
     "metadata": {},
     "output_type": "execute_result"
    }
   ],
   "source": [
    "outputs"
   ]
  }
 ],
 "metadata": {
  "kernelspec": {
   "display_name": "idv",
   "language": "python",
   "name": "python3"
  },
  "language_info": {
   "codemirror_mode": {
    "name": "ipython",
    "version": 3
   },
   "file_extension": ".py",
   "mimetype": "text/x-python",
   "name": "python",
   "nbconvert_exporter": "python",
   "pygments_lexer": "ipython3",
   "version": "3.10.6"
  },
  "orig_nbformat": 4
 },
 "nbformat": 4,
 "nbformat_minor": 2
}
