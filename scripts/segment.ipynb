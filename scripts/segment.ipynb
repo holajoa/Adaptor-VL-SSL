{
 "cells": [
  {
   "cell_type": "code",
   "execution_count": null,
   "metadata": {},
   "outputs": [],
   "source": [
    "import torch\n",
    "import torch.nn as nn\n",
    "\n",
    "from mgca.models.backbones.transformer_seg import *\n",
    "from mgca.models.backbones.transformer_model import *\n",
    "\n",
    "from models.seg_models import ResNetAEUNet, DINOv2Segmenter"
   ]
  },
  {
   "cell_type": "code",
   "execution_count": 2,
   "metadata": {},
   "outputs": [
    {
     "name": "stderr",
     "output_type": "stream",
     "text": [
      "Using cache found in /homes/jq619/.cache/torch/hub/facebookresearch_dinov2_main\n",
      "xFormers not available\n",
      "xFormers not available\n"
     ]
    },
    {
     "data": {
      "text/plain": [
       "torch.Size([1, 1, 224, 224])"
      ]
     },
     "execution_count": 2,
     "metadata": {},
     "output_type": "execute_result"
    }
   ],
   "source": [
    "class Decoder2D(nn.Module):\n",
    "    def __init__(self, in_channels, out_channels, features=[512, 256, 128, 64]):\n",
    "        super().__init__()\n",
    "        self.decoder_0  = nn.Sequential(\n",
    "            nn.Conv2d(in_channels, in_channels, 3, padding=0),\n",
    "            nn.BatchNorm2d(in_channels),\n",
    "            nn.ReLU(inplace=True),\n",
    "        )\n",
    "        self.decoder_1 = nn.Sequential(\n",
    "            nn.Conv2d(in_channels, features[0], 3, padding=1),\n",
    "            nn.BatchNorm2d(features[0]),\n",
    "            nn.ReLU(inplace=True),\n",
    "            nn.Upsample(scale_factor=2, mode=\"bilinear\", align_corners=True)\n",
    "        )\n",
    "        self.decoder_2 = nn.Sequential(\n",
    "            nn.Conv2d(features[0], features[1], 3, padding=1),\n",
    "            nn.BatchNorm2d(features[1]),\n",
    "            nn.ReLU(inplace=True),\n",
    "            nn.Upsample(scale_factor=2, mode=\"bilinear\", align_corners=True)\n",
    "        )\n",
    "        self.decoder_3 = nn.Sequential(\n",
    "            nn.Conv2d(features[1], features[2], 3, padding=1),\n",
    "            nn.BatchNorm2d(features[2]),\n",
    "            nn.ReLU(inplace=True),\n",
    "            nn.Upsample(scale_factor=2, mode=\"bilinear\", align_corners=True)\n",
    "        )\n",
    "        self.decoder_4 = nn.Sequential(\n",
    "            nn.Conv2d(features[2], features[3], 3, padding=1),\n",
    "            nn.BatchNorm2d(features[3]),\n",
    "            nn.ReLU(inplace=True),\n",
    "            nn.Upsample(scale_factor=2, mode=\"bilinear\", align_corners=True)\n",
    "        )\n",
    "\n",
    "        self.final_out = nn.Conv2d(features[-1], out_channels, 3, padding=1)\n",
    "\n",
    "    def forward(self, x):\n",
    "        x = self.decoder_0(x)\n",
    "        x = self.decoder_1(x)\n",
    "        x = self.decoder_2(x)\n",
    "        x = self.decoder_3(x)\n",
    "        x = self.decoder_4(x)\n",
    "        x = self.final_out(x)\n",
    "        return x\n",
    "\n",
    "encoder = torch.hub.load('facebookresearch/dinov2', 'dinov2_vits14')\n",
    "decoder = Decoder2D(in_channels=384, out_channels=1, features=[512, 256, 128, 64])\n",
    "\n",
    "x = torch.randn(1, 3, 224, 224)\n",
    "features = encoder(x, is_training=True)['x_norm_patchtokens']\n",
    "\n",
    "decoder(features.reshape(1, 16, 16, 384).permute(0, 3, 1, 2)).shape"
   ]
  },
  {
   "cell_type": "code",
   "execution_count": 20,
   "metadata": {},
   "outputs": [],
   "source": [
    "class DINOSegmenter(nn.Module):\n",
    "    def __init__(self, backbone, adaptor, hidden_dim=384, \n",
    "                 out_channels=1, features=[512, 256, 128, 64]):\n",
    "        super().__init__()\n",
    "        self.hidden_dim = hidden_dim\n",
    "        self.out_channels = out_channels\n",
    "        self.features = features\n",
    "        \n",
    "        self.encoder = backbone \n",
    "        self.adaptor = adaptor\n",
    "        self.decoder = Decoder2D(in_channels=hidden_dim, \n",
    "                                 out_channels=out_channels, \n",
    "                                 features=features)\n",
    "\n",
    "    def forward(self, x):\n",
    "        features = self.encoder(x, is_training=True)['x_norm_patchtokens']\n",
    "        features = self.adaptor(features)\n",
    "        output = self.decoder(features.reshape(1, 16, 16, self.hidden_dim).permute(0, 3, 1, 2))\n",
    "        return output"
   ]
  },
  {
   "cell_type": "code",
   "execution_count": 4,
   "metadata": {},
   "outputs": [],
   "source": [
    "from models.adaptor import Adaptor\n",
    "\n",
    "ckpt = '/vol/bitbucket/jq619/adaptor-thesis/trained_models/pretrain/dinov2-s_clinicalbert/adaptor pretrain/imx07gwx/checkpoints/epoch=49-step=88799.ckpt'\n",
    "adaptor = Adaptor.load_from_checkpoint(ckpt)"
   ]
  },
  {
   "cell_type": "code",
   "execution_count": 23,
   "metadata": {},
   "outputs": [
    {
     "name": "stderr",
     "output_type": "stream",
     "text": [
      "Using cache found in /homes/jq619/.cache/torch/hub/facebookresearch_dinov2_main\n"
     ]
    }
   ],
   "source": [
    "encoder = torch.hub.load('facebookresearch/dinov2', 'dinov2_vits14')\n",
    "model = DINOSegmenter(backbone=encoder, adaptor=adaptor, hidden_dim=768)"
   ]
  },
  {
   "cell_type": "code",
   "execution_count": 24,
   "metadata": {},
   "outputs": [
    {
     "name": "stdout",
     "output_type": "stream",
     "text": [
      "torch.Size([1, 256, 768])\n"
     ]
    },
    {
     "data": {
      "text/plain": [
       "torch.Size([1, 1, 224, 224])"
      ]
     },
     "execution_count": 24,
     "metadata": {},
     "output_type": "execute_result"
    }
   ],
   "source": [
    "x = torch.randn(1, 3, 224, 224)\n",
    "model(x).shape"
   ]
  }
 ],
 "metadata": {
  "kernelspec": {
   "display_name": "idv",
   "language": "python",
   "name": "python3"
  },
  "language_info": {
   "codemirror_mode": {
    "name": "ipython",
    "version": 3
   },
   "file_extension": ".py",
   "mimetype": "text/x-python",
   "name": "python",
   "nbconvert_exporter": "python",
   "pygments_lexer": "ipython3",
   "version": "3.10.6"
  },
  "orig_nbformat": 4
 },
 "nbformat": 4,
 "nbformat_minor": 2
}
