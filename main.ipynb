{
 "cells": [
  {
   "cell_type": "code",
   "execution_count": 1,
   "metadata": {},
   "outputs": [
    {
     "name": "stderr",
     "output_type": "stream",
     "text": [
      "d:\\Apps\\Anaconda3\\envs\\idv\\lib\\site-packages\\tqdm\\auto.py:21: TqdmWarning: IProgress not found. Please update jupyter and ipywidgets. See https://ipywidgets.readthedocs.io/en/stable/user_install.html\n",
      "  from .autonotebook import tqdm as notebook_tqdm\n"
     ]
    }
   ],
   "source": [
    "import torch \n",
    "import torch.nn as nn\n",
    "from typing import List, Union, Tuple, Dict, Optional\n",
    "\n",
    "import numpy as np\n",
    "\n",
    "from transformers import AutoTokenizer\n",
    "from transformers import BertModel, AutoModel, ViTImageProcessor\n",
    "\n",
    "import torchxrayvision as xrv\n",
    "from fusion import Fusion\n",
    "from image_processor import ae_image_processor, timm_image_processor\n",
    "from utils import load_timm_model\n",
    "\n",
    "import skimage"
   ]
  },
  {
   "cell_type": "code",
   "execution_count": 2,
   "metadata": {},
   "outputs": [
    {
     "name": "stderr",
     "output_type": "stream",
     "text": [
      "Some weights of the model checkpoint at microsoft/BiomedVLP-CXR-BERT-general were not used when initializing BertModel: ['cls.predictions.transform.dense.weight', 'cls.predictions.transform.dense.bias', 'cls.seq_relationship.bias', 'cls.predictions.decoder.bias', 'cls.predictions.bias', 'cls.predictions.transform.LayerNorm.bias', 'cls.predictions.transform.LayerNorm.weight', 'cls.predictions.decoder.weight', 'cls.seq_relationship.weight']\n",
      "- This IS expected if you are initializing BertModel from the checkpoint of a model trained on another task or with another architecture (e.g. initializing a BertForSequenceClassification model from a BertForPreTraining model).\n",
      "- This IS NOT expected if you are initializing BertModel from the checkpoint of a model that you expect to be exactly identical (initializing a BertForSequenceClassification model from a BertForSequenceClassification model).\n"
     ]
    }
   ],
   "source": [
    "text_pretrained_available = [\n",
    "    \"bert-base-uncased\", \n",
    "    \"dmis-lab/biobert-v1.1\", \n",
    "    \"microsoft/BiomedNLP-PubMedBERT-base-uncased-abstract-fulltext\", \n",
    "    \"microsoft/BiomedVLP-CXR-BERT-general\", \n",
    "]\n",
    "\n",
    "# vision_pretrained = \"google/vit-base-patch16-224\"\n",
    "# vision_model = xrv.autoencoders.ResNetAE(weights=\"101-elastic\")\n",
    "\n",
    "vision_model = load_timm_model('swin_base_patch4_window7_224', pretrained=True, retain_head=False)\n",
    "\n",
    "text_pretrained = \"microsoft/BiomedVLP-CXR-BERT-general\"\n",
    "text_model = BertModel.from_pretrained(text_pretrained)\n",
    "\n",
    "model = Fusion(\n",
    "    text_model=text_model,\n",
    "    vision_model=vision_model,\n",
    "    vision_model_type='timm', \n",
    "    vision_output_dim=1024,\n",
    "    projection_dim=768,\n",
    ")"
   ]
  },
  {
   "cell_type": "code",
   "execution_count": 3,
   "metadata": {},
   "outputs": [],
   "source": [
    "tokenizer = AutoTokenizer.from_pretrained(text_pretrained)\n",
    "image_processor = lambda x: ViTImageProcessor()(x, return_tensors=\"pt\", return_dict=True)\n",
    "\n",
    "img_path = 'sample.jpeg'\n",
    "img = skimage.io.imread(img_path)\n",
    "imgs = np.stack([img, img])\n",
    "vision_inputs = image_processor(imgs)"
   ]
  },
  {
   "cell_type": "code",
   "execution_count": 4,
   "metadata": {},
   "outputs": [],
   "source": [
    "text_inputs = tokenizer(\n",
    "    text=[\"Nodule\", \"Lung Lesion\"], \n",
    "    return_tensors=\"pt\", padding=True, \n",
    ")\n",
    "inputs = {**vision_inputs, **text_inputs}\n",
    "outputs = model(**inputs, return_dict=True, return_loss=True)"
   ]
  },
  {
   "cell_type": "code",
   "execution_count": null,
   "metadata": {},
   "outputs": [],
   "source": []
  }
 ],
 "metadata": {
  "kernelspec": {
   "display_name": "idv",
   "language": "python",
   "name": "python3"
  },
  "language_info": {
   "codemirror_mode": {
    "name": "ipython",
    "version": 3
   },
   "file_extension": ".py",
   "mimetype": "text/x-python",
   "name": "python",
   "nbconvert_exporter": "python",
   "pygments_lexer": "ipython3",
   "version": "3.10.0"
  },
  "orig_nbformat": 4
 },
 "nbformat": 4,
 "nbformat_minor": 2
}
