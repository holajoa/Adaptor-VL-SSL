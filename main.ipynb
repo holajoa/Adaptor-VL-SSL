{
 "cells": [
  {
   "cell_type": "code",
   "execution_count": 16,
   "metadata": {},
   "outputs": [],
   "source": [
    "import torch \n",
    "import torch.nn as nn\n",
    "from typing import List, Union, Tuple, Dict, Optional\n",
    "\n",
    "import numpy as np\n",
    "\n",
    "from models import Fusion\n",
    "\n",
    "from transformers import AutoTokenizer\n",
    "from transformers import BertModel\n",
    "\n",
    "from fusion import Fusion"
   ]
  },
  {
   "cell_type": "code",
   "execution_count": 2,
   "metadata": {},
   "outputs": [
    {
     "name": "stderr",
     "output_type": "stream",
     "text": [
      "Some weights of the model checkpoint at bert-base-uncased were not used when initializing BertModel: ['cls.predictions.bias', 'cls.predictions.transform.LayerNorm.weight', 'cls.seq_relationship.bias', 'cls.seq_relationship.weight', 'cls.predictions.transform.dense.weight', 'cls.predictions.transform.dense.bias', 'cls.predictions.transform.LayerNorm.bias', 'cls.predictions.decoder.weight']\n",
      "- This IS expected if you are initializing BertModel from the checkpoint of a model trained on another task or with another architecture (e.g. initializing a BertForSequenceClassification model from a BertForPreTraining model).\n",
      "- This IS NOT expected if you are initializing BertModel from the checkpoint of a model that you expect to be exactly identical (initializing a BertForSequenceClassification model from a BertForSequenceClassification model).\n"
     ]
    }
   ],
   "source": [
    "# vision_pretrained = \"google/vit-base-patch16-224\"\n",
    "text_pretrained = \"bert-base-uncased\"\n",
    "\n",
    "vision_model = xrv.autoencoders.ResNetAE(weights=\"101-elastic\")\n",
    "text_model = BertModel.from_pretrained(text_pretrained)\n",
    "\n",
    "model = Fusion(\n",
    "    text_model=text_model,\n",
    "    vision_model=vision_model,\n",
    "    vision_model_type='ae', \n",
    "    vision_output_dim=512,\n",
    "    projection_dim=768,\n",
    ")"
   ]
  },
  {
   "cell_type": "code",
   "execution_count": 17,
   "metadata": {},
   "outputs": [],
   "source": [
    "tokenizer = AutoTokenizer.from_pretrained(text_pretrained)\n",
    "image_processor = ae_image_processor\n",
    "\n",
    "img_path = 'sample.jpeg'\n",
    "img = skimage.io.imread(img_path)\n",
    "imgs = np.stack([img, img])\n",
    "vision_inputs = image_processor(imgs)\n",
    "\n",
    "text_inputs = tokenizer(\n",
    "    text=[\"Nodule\", \"Lung Lesion\"], \n",
    "    return_tensors=\"pt\", padding=True, \n",
    ")\n",
    "inputs = {**vision_inputs, **text_inputs}\n",
    "outputs = model(**inputs, return_dict=True, return_loss=True)"
   ]
  }
 ],
 "metadata": {
  "kernelspec": {
   "display_name": "idv",
   "language": "python",
   "name": "python3"
  },
  "language_info": {
   "codemirror_mode": {
    "name": "ipython",
    "version": 3
   },
   "file_extension": ".py",
   "mimetype": "text/x-python",
   "name": "python",
   "nbconvert_exporter": "python",
   "pygments_lexer": "ipython3",
   "version": "3.10.0"
  },
  "orig_nbformat": 4
 },
 "nbformat": 4,
 "nbformat_minor": 2
}
